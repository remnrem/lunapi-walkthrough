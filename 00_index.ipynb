{
 "cells": [
  {
   "cell_type": "markdown",
   "id": "4ea61ff3-37aa-403e-ba5a-70035bfa49e1",
   "metadata": {
    "jp-MarkdownHeadingCollapsed": true
   },
   "source": [
    "URL index: [Home](https://zzz.bwh.harvard.edu/luna-walkthrough/) | [Data](https://zzz.bwh.harvard.edu/luna-walkthrough/data/) | [S1. File QC](https://zzz.bwh.harvard.edu/luna-walkthrough/p1/) | [S2. Signal QC](https://zzz.bwh.harvard.edu/luna-walkthrough/p2) | [S3. Staging](https://zzz.bwh.harvard.edu/luna-walkthrough/p3) | [S4. Artifacts](https://zzz.bwh.harvard.edu/luna-walkthrough/p4) | [S5. Analysis](https://zzz.bwh.harvard.edu/luna-walkthrough/p5)\n",
    "\n",
    "Notebook index: [Index](00_index.ipynb) | [S1. File QC](p1/00_index.ipynb) | [S2. Signal QC](p2/00_index.ipynb) | [S3. Staging](p3/00_index.ipynb) | [S4. Artifacts](p4/00_index.ipynb) | [S5. Analysis](p5/00_index.ipynb)\n",
    "\n",
    "---"
   ]
  },
  {
   "cell_type": "markdown",
   "id": "189b3f72-05fd-4362-8e85-ccb5a1238805",
   "metadata": {},
   "source": [
    "# Luna walkthrough (Python/Lunapi version)"
   ]
  },
  {
   "cell_type": "markdown",
   "id": "b382b591-9c08-4bd2-bfca-c33e3a3f93b9",
   "metadata": {},
   "source": [
    "These notebooks are designed to be __used in conjunction with the fuller [walkthrough documentation](https://zzz.bwh.harvard.edu/luna-walkthrough)__.  Rather than duplicate material across two sites, we link to the appropriate page at the start of each notebook (_Walkthrough URL_).  This notebook also includes the equivalent Luna command-line code as comments where appropriate.  This should help to highlight similarities and differences between command-line Luna and his Python-based Lunapi."
   ]
  },
  {
   "cell_type": "markdown",
   "id": "ea76f6fb-1319-40a9-9e72-827162acdef1",
   "metadata": {},
   "source": [
    "__Note that where the main walkthrough uses R for analysis and visualiztion in a few steps (including the lunaR         library), some of these visualization components will be added here later.  Initially, we'll cover only the    Lunapi steps to recreate core results. These notebooks are terse in terms additional explanatory documentation, and so it will behoove you follow the walkthrough from the website in parallel to these notebooks.__"
   ]
  },
  {
   "cell_type": "markdown",
   "id": "5094db5e-4bd6-4ed5-8355-7539d42b129a",
   "metadata": {},
   "source": [
    "## Orientation\n",
    "\n",
    "Please first: \n",
    "\n",
    " - read the [overall logic and aims](https://zzz.bwh.harvard.edu/luna-walkthrough/) of the walkthrough\n",
    "\n",
    " - read about the [datasets used](https://zzz.bwh.harvard.edu/luna-walkthrough/data/), 20 hd-EEG sleep EEGs including both _original_ (`v1`) and _manipulated_ (`v2`) versions\n",
    "\n",
    " - read the [preparatory steps](https://zzz.bwh.harvard.edu/luna-walkthrough/prep/) primarily to orient to the data and project/folder structure and set-up; if using only this Python-based walkthrough, you can ignore the sections on shell/command-line orientation\n",
    "\n",
    " - as noted above, __at the start of each notebook please first skim the associated walkthrough URL for context__.  You can skip the syntactic details of command-line Luna, but each page will give critical context that might not be evident from these stripped-down notebooks _per se_"
   ]
  },
  {
   "cell_type": "markdown",
   "id": "f528a1da-db9a-461e-9a85-6bd79734def1",
   "metadata": {},
   "source": [
    "## Set up\n",
    "\n",
    "Here we'll run some shell code to set things up, assuming that you've copied and extracted the `orig/` folder in the current working directory."
   ]
  },
  {
   "cell_type": "code",
   "execution_count": 7,
   "id": "5daa820f-2fa0-40f3-b238-e412dcfda0b4",
   "metadata": {
    "scrolled": true
   },
   "outputs": [
    {
     "data": {
      "text/plain": [
       "'/Users/smp37/Partners HealthCare Dropbox/Shaun Purcell/projects/luna-apps/2024/lunapi'"
      ]
     },
     "execution_count": 7,
     "metadata": {},
     "output_type": "execute_result"
    }
   ],
   "source": [
    "import os\n",
    "os.getcwd()"
   ]
  },
  {
   "cell_type": "markdown",
   "id": "cd47d694-5f75-4d38-a9c6-ce272ec4c42c",
   "metadata": {},
   "source": [
    "This should list `v1`, `v2` and `aux` folders in `orig/`."
   ]
  },
  {
   "cell_type": "code",
   "execution_count": 11,
   "id": "5a9370c2-10e4-4f9d-a3d8-0a9396241d63",
   "metadata": {},
   "outputs": [
    {
     "name": "stdout",
     "output_type": "stream",
     "text": [
      "\u001b[34maux\u001b[m\u001b[m\n",
      "\u001b[34mauxint\u001b[m\u001b[m\n",
      "\u001b[34mv1\u001b[m\u001b[m\n",
      "\u001b[34mv2\u001b[m\u001b[m\n"
     ]
    }
   ],
   "source": [
    "%%sh \n",
    "ls orig"
   ]
  },
  {
   "cell_type": "markdown",
   "id": "8fba6db5-91c4-473e-b2c8-90af47655773",
   "metadata": {},
   "source": [
    "Force a fresh start for working folder `work/`.  Note, as subsequent notebooks are located in subfolders corresponding to steps (e.g. `p1/`, `p2/`, etc), this folder will typically be referred to as `../work/` in other notebooks."
   ]
  },
  {
   "cell_type": "code",
   "execution_count": 12,
   "id": "ca27e3f5-8dc0-4896-bc7f-e489ee4f437b",
   "metadata": {},
   "outputs": [],
   "source": [
    "%%sh\n",
    "rm -rf work\n",
    "mkdir -p work/data work/harm1 work/harm2 work/clean"
   ]
  },
  {
   "cell_type": "markdown",
   "id": "dcc9ddce-5a59-47f1-92a1-7a7647b615f1",
   "metadata": {},
   "source": [
    "Copy the project data over (from `v2` manipulated files to `work/data/`)."
   ]
  },
  {
   "cell_type": "code",
   "execution_count": 13,
   "id": "3ca028d7-e984-4a47-a7ba-283834ccaa57",
   "metadata": {},
   "outputs": [],
   "source": [
    "%%sh \n",
    "cp -r orig/v2/edfs orig/v2/annots orig/aux work/data/"
   ]
  },
  {
   "cell_type": "code",
   "execution_count": 14,
   "id": "9af19c0c-376a-447a-a771-85fa67f9b88b",
   "metadata": {
    "scrolled": true
   },
   "outputs": [
    {
     "name": "stdout",
     "output_type": "stream",
     "text": [
      "total 0\n",
      "drwxr-xr-x@ 2 smp37  staff   64 Sep 11 10:30 \u001b[34mclean\u001b[m\u001b[m\n",
      "drwxr-xr-x@ 5 smp37  staff  160 Sep 11 10:30 \u001b[34mdata\u001b[m\u001b[m\n",
      "drwxr-xr-x@ 2 smp37  staff   64 Sep 11 10:30 \u001b[34mharm1\u001b[m\u001b[m\n",
      "drwxr-xr-x@ 2 smp37  staff   64 Sep 11 10:30 \u001b[34mharm2\u001b[m\u001b[m\n",
      "\n",
      "work/clean:\n",
      "total 0\n",
      "\n",
      "work/data:\n",
      "total 0\n",
      "drwxr-xr-x@ 22 smp37  staff  704 Sep 11 10:30 \u001b[34mannots\u001b[m\u001b[m\n",
      "drwxr-xr-x@  6 smp37  staff  192 Sep 11 10:30 \u001b[34maux\u001b[m\u001b[m\n",
      "drwxr-xr-x@ 22 smp37  staff  704 Sep 11 10:30 \u001b[34medfs\u001b[m\u001b[m\n",
      "\n",
      "work/data/annots:\n",
      "total 1024\n",
      "-rw-r--r--@ 1 smp37  staff   26895 Sep 11 10:30 F01.annot\n",
      "-rw-r--r--@ 1 smp37  staff   14250 Sep 11 10:30 F02.annot\n",
      "-rw-r--r--@ 1 smp37  staff    2431 Sep 11 10:30 F03.annot\n",
      "-rw-r--r--@ 1 smp37  staff    3210 Sep 11 10:30 F04b.annot\n",
      "-rw-r--r--@ 1 smp37  staff    2528 Sep 11 10:30 F05.annot\n",
      "-rw-r--r--@ 1 smp37  staff    1997 Sep 11 10:30 F06.annot\n",
      "-rw-r--r--@ 1 smp37  staff   28473 Sep 11 10:30 F07.annot\n",
      "-rw-r--r--@ 1 smp37  staff   28454 Sep 11 10:30 F08.annot\n",
      "-rw-r--r--@ 1 smp37  staff   38641 Sep 11 10:30 F09.annot\n",
      "-rw-r--r--@ 1 smp37  staff   51832 Sep 11 10:30 F10.annot\n",
      "-rw-r--r--@ 1 smp37  staff   22190 Sep 11 10:30 M01.csv\n",
      "-rw-r--r--@ 1 smp37  staff   10762 Sep 11 10:30 M02.csv\n",
      "-rw-r--r--@ 1 smp37  staff   14706 Sep 11 10:30 M03.tsv\n",
      "-rw-r--r--@ 1 smp37  staff   14868 Sep 11 10:30 M04.tsv\n",
      "-rw-r--r--@ 1 smp37  staff    2626 Sep 11 10:30 M05.eannot\n",
      "-rw-r--r--@ 1 smp37  staff    2395 Sep 11 10:30 M06.eannot\n",
      "-rw-r--r--@ 1 smp37  staff    2567 Sep 11 10:30 M07.eannot\n",
      "-rw-r--r--@ 1 smp37  staff    2545 Sep 11 10:30 M08.eannot\n",
      "-rw-r--r--@ 1 smp37  staff  110421 Sep 11 10:30 M09.xml\n",
      "-rw-r--r--@ 1 smp37  staff  113595 Sep 11 10:30 M10.xml\n",
      "\n",
      "work/data/aux:\n",
      "total 32\n",
      "-rw-r--r--@ 1 smp37  staff   122 Sep 11 10:30 amaps\n",
      "-rw-r--r--@ 1 smp37  staff   179 Sep 11 10:30 badchs.txt\n",
      "-rw-r--r--@ 1 smp37  staff  2456 Sep 11 10:30 cmaps\n",
      "-rw-r--r--@ 1 smp37  staff   192 Sep 11 10:30 master.txt\n",
      "\n",
      "work/data/edfs:\n",
      "total 14850320\n",
      "-rw-r--r--@ 1 smp37  staff  163916836 Sep 11 10:30 F01.edf\n",
      "-rw-r--r--@ 1 smp37  staff  457259460 Sep 11 10:30 F02.edf\n",
      "-rw-r--r--@ 1 smp37  staff  394592256 Sep 11 10:30 F03.edf\n",
      "-rw-r--r--@ 1 smp37  staff  397582848 Sep 11 10:30 F04.edf\n",
      "-rw-r--r--@ 1 smp37  staff  406403584 Sep 11 10:30 F05.edf\n",
      "-rw-r--r--@ 1 smp37  staff  370210000 Sep 11 10:30 F06.edf\n",
      "-rw-r--r--@ 1 smp37  staff  427851264 Sep 11 10:30 F07.edf\n",
      "-rw-r--r--@ 1 smp37  staff        200 Sep 11 10:30 F08.edf\n",
      "-rw-r--r--@ 1 smp37  staff  353343232 Sep 11 10:30 F09.edf\n",
      "-rw-r--r--@ 1 smp37  staff  418410180 Sep 11 10:30 F10.edf\n",
      "-rw-r--r--@ 1 smp37  staff  397024000 Sep 11 10:30 M01.edf\n",
      "-rw-r--r--@ 1 smp37  staff  401222912 Sep 11 10:30 M02.edf\n",
      "-rw-r--r--@ 1 smp37  staff  425041920 Sep 11 10:30 M03.edf\n",
      "-rw-r--r--@ 1 smp37  staff  423658240 Sep 11 10:30 M04.edf\n",
      "-rw-r--r--@ 1 smp37  staff  423002880 Sep 11 10:30 M05.edf\n",
      "-rw-r--r--@ 1 smp37  staff  413925376 Sep 11 10:30 M06.edf\n",
      "-rw-r--r--@ 1 smp37  staff  452531200 Sep 11 10:30 M07.edf\n",
      "-rw-r--r--@ 1 smp37  staff  444979200 Sep 11 10:30 M08.edf\n",
      "-rw-r--r--@ 1 smp37  staff  427735552 Sep 11 10:30 M09.edf\n",
      "-rw-r--r--@ 1 smp37  staff  404638240 Sep 11 10:30 M10.edf\n",
      "\n",
      "work/harm1:\n",
      "total 0\n",
      "\n",
      "work/harm2:\n",
      "total 0\n"
     ]
    }
   ],
   "source": [
    "%%sh\n",
    "ls -lR work"
   ]
  },
  {
   "cell_type": "markdown",
   "id": "55dddb64-94ce-4739-afae-6b48b2d5f718",
   "metadata": {},
   "source": [
    "## Next step"
   ]
  },
  {
   "cell_type": "markdown",
   "id": "dd685c78-b580-43f7-8a07-e97a0a380248",
   "metadata": {},
   "source": [
    "Now let's proceed to [step 1](p1/index.ipynb)."
   ]
  }
 ],
 "metadata": {
  "kernelspec": {
   "display_name": "Python 3 (ipykernel)",
   "language": "python",
   "name": "python3"
  },
  "language_info": {
   "codemirror_mode": {
    "name": "ipython",
    "version": 3
   },
   "file_extension": ".py",
   "mimetype": "text/x-python",
   "name": "python",
   "nbconvert_exporter": "python",
   "pygments_lexer": "ipython3",
   "version": "3.9.6"
  }
 },
 "nbformat": 4,
 "nbformat_minor": 5
}
