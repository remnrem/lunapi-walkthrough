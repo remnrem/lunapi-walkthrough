{
 "cells": [
  {
   "cell_type": "markdown",
   "id": "fd6dedf1-e36a-466f-816e-e98a3a84de66",
   "metadata": {
    "jp-MarkdownHeadingCollapsed": true
   },
   "source": [
    "URL index: [Home](https://zzz.bwh.harvard.edu/luna-walkthrough/) | [Data](https://zzz.bwh.harvard.edu/luna-walkthrough/data/) | [S1. File QC](https://zzz.bwh.harvard.edu/luna-walkthrough/p1/) | [S2. Signal QC](https://zzz.bwh.harvard.edu/luna-walkthrough/p2) | [S3. Staging](https://zzz.bwh.harvard.edu/luna-walkthrough/p3) | [S4. Artifacts](https://zzz.bwh.harvard.edu/luna-walkthrough/p4) | [S5. Analysis](https://zzz.bwh.harvard.edu/luna-walkthrough/p5)\n",
    "\n",
    "Notebook index: [Index](../00_index.ipynb) | [S1. File QC](../p1/00_index.ipynb) | [S2. Signal QC](../p2/00_index.ipynb) | [S3. Staging](../p3/00_index.ipynb) | [S4. Artifacts](../p4/00_index.ipynb) | [S5. Analysis](../p5/00_index.ipynb)\n",
    "\n",
    "---"
   ]
  },
  {
   "cell_type": "markdown",
   "id": "4ea0452e-3ff3-4ddd-ba3e-1d945f808b55",
   "metadata": {},
   "source": [
    "# 1.4. Manipulating EDF record size\n",
    "\n",
    "Walkthrough URL = [https://zzz.bwh.harvard.edu/luna-walkthrough/p1/recsize/](https://zzz.bwh.harvard.edu/luna-walkthrough/p1/recsize/)"
   ]
  },
  {
   "cell_type": "code",
   "execution_count": 1,
   "id": "e7af2ac1-bb41-4f04-ae8a-c154d1549352",
   "metadata": {},
   "outputs": [
    {
     "name": "stdout",
     "output_type": "stream",
     "text": [
      "initiated lunapi v0.1.1 <lunapi.lunapi0.luna object at 0x16a8723b0> \n",
      "\n",
      "read 20 individuals from s1.lst\n"
     ]
    }
   ],
   "source": [
    "import lunapi as lp\n",
    "proj = lp.proj()\n",
    "proj.sample_list( 's1.lst' )"
   ]
  },
  {
   "cell_type": "markdown",
   "id": "e6f56b7a-219c-413a-8b3c-67d0ac9e40c9",
   "metadata": {},
   "source": [
    "From the prior step, we see `M06` has a nonstandard EDF record size.  We'll attach and change."
   ]
  },
  {
   "cell_type": "code",
   "execution_count": 2,
   "id": "e50d3b5d-8841-469b-b954-44a450e32a09",
   "metadata": {},
   "outputs": [
    {
     "name": "stderr",
     "output_type": "stream",
     "text": [
      "___________________________________________________________________\n",
      "Processing: M06 | ../work/data/edfs//M06.edf\n",
      " duration 07.36.44, 27404s | time 22.00.00 - 05.36.44 | date 01.01.85\n",
      "\n",
      " signals: 59 (of 59) selected in a standard EDF file\n",
      "  FP1 | FP2 | AF3 | AF4 | F7 | F5 | F3 | F1\n",
      "  F2 | F4 | F6 | F8 | FT7 | FC5 | FC3 | FC1\n",
      "  FC2 | FC4 | FC6 | FT8 | T7 | C5 | C3 | C1\n",
      "  C2 | C4 | C6 | T8 | TP7 | CP5 | CP3 | CP1\n",
      "  CP2 | CP4 | CP6 | TP8 | P7 | P5 | P3 | P1\n",
      "  P2 | P4 | P6 | P8 | PO3 | PO4 | O1 | O2\n",
      "  AFZ | FZ | FCZ | CZ | CPZ | PZ | POZ | OZ\n",
      "  A1 | A2 | FPZ\n"
     ]
    }
   ],
   "source": [
    "p = proj.inst( 'M06' )"
   ]
  },
  {
   "cell_type": "markdown",
   "id": "967d8d9e-22c4-4c5f-82eb-e8fec19e0ebc",
   "metadata": {},
   "source": [
    "Chaning record size using `RECORD-SIZE`.  Note: this forces the `problem` flag to be set, so it will _look_ like an error.   Read the console log carefully and you'll see this is as expected. (`now WRITE'ing EDF to disk, and will set 'problem' flag to skip to next EDF`)"
   ]
  },
  {
   "cell_type": "code",
   "execution_count": 3,
   "id": "e0abd249-6164-425a-b27b-dae2f9470d9a",
   "metadata": {},
   "outputs": [
    {
     "name": "stderr",
     "output_type": "stream",
     "text": [
      " ..................................................................\n",
      " CMD #1: RECORD-SIZE\n",
      "   options: dur=1 edf=M06-v2 edf-dir=../work/data/edfs/ sig=*\n",
      " altering record size from 17 to 1 seconds\n",
      " now WRITE'ing EDF to disk, and will set 'problem' flag to skip to next EDF\n",
      "  no epoch mask set, no restructuring needed\n",
      "  data are not truly discontinuous\n",
      "  writing as a standard EDF\n",
      "  writing 59 channels\n",
      "  saved new EDF, ../work/data/edfs/M06-v2.edf\n",
      "**warning: the PROBLEM flag was set, skipping to next EDF...\n"
     ]
    },
    {
     "ename": "RuntimeError",
     "evalue": "problem flag set: likely no unmasked records left?",
     "output_type": "error",
     "traceback": [
      "\u001b[0;31m---------------------------------------------------------------------------\u001b[0m",
      "\u001b[0;31mRuntimeError\u001b[0m                              Traceback (most recent call last)",
      "Cell \u001b[0;32mIn[3], line 1\u001b[0m\n\u001b[0;32m----> 1\u001b[0m \u001b[43mp\u001b[49m\u001b[38;5;241;43m.\u001b[39;49m\u001b[43meval\u001b[49m\u001b[43m(\u001b[49m\u001b[43m \u001b[49m\u001b[38;5;124;43m'\u001b[39;49m\u001b[38;5;124;43mRECORD-SIZE dur=1 edf-dir=../work/data/edfs/ edf=M06-v2\u001b[39;49m\u001b[38;5;124;43m'\u001b[39;49m\u001b[43m \u001b[49m\u001b[43m)\u001b[49m\n",
      "File \u001b[0;32m~/Library/Python/3.9/lib/python/site-packages/lunapi/lunapi1.py:670\u001b[0m, in \u001b[0;36minst.eval\u001b[0;34m(self, cmdstr)\u001b[0m\n\u001b[1;32m    668\u001b[0m \u001b[38;5;28;01mdef\u001b[39;00m \u001b[38;5;21meval\u001b[39m( \u001b[38;5;28mself\u001b[39m, cmdstr ):\n\u001b[1;32m    669\u001b[0m \u001b[38;5;250m   \u001b[39m\u001b[38;5;124;03m\"\"\"Evaluate one or more Luna commands, storing results internally\"\"\"\u001b[39;00m\n\u001b[0;32m--> 670\u001b[0m    \u001b[38;5;28;43mself\u001b[39;49m\u001b[38;5;241;43m.\u001b[39;49m\u001b[43medf\u001b[49m\u001b[38;5;241;43m.\u001b[39;49m\u001b[43meval\u001b[49m\u001b[43m(\u001b[49m\u001b[43m \u001b[49m\u001b[43mcmdstr\u001b[49m\u001b[43m \u001b[49m\u001b[43m)\u001b[49m\n\u001b[1;32m    671\u001b[0m    \u001b[38;5;28;01mreturn\u001b[39;00m \u001b[38;5;28mself\u001b[39m\u001b[38;5;241m.\u001b[39mstrata()\n",
      "\u001b[0;31mRuntimeError\u001b[0m: problem flag set: likely no unmasked records left?"
     ]
    }
   ],
   "source": [
    "p.eval( 'RECORD-SIZE dur=1 edf-dir=../work/data/edfs/ edf=M06-v2' )"
   ]
  },
  {
   "cell_type": "markdown",
   "id": "c8880a26-5a23-4635-9acd-e0a1439998e1",
   "metadata": {},
   "source": [
    "As noted: `now WRITE'ing EDF to disk, and will set 'problem' flag to skip to next EDF`\n",
    "\n",
    "That is, this is _not_ an error..."
   ]
  },
  {
   "cell_type": "markdown",
   "id": "b9c8efa4-60c0-4de7-8b97-1d60af62319b",
   "metadata": {},
   "source": [
    "We now confirm we can load this new EDF and check the record size via `HEADERS`.  We'll create an empty (dummy) instance and attach the EDF directly (rather than working with a sample list)."
   ]
  },
  {
   "cell_type": "code",
   "execution_count": 4,
   "id": "aabba88f-5250-4d2a-87c4-98cc97c79875",
   "metadata": {},
   "outputs": [],
   "source": [
    "p = proj.inst( 'dummy' )"
   ]
  },
  {
   "cell_type": "code",
   "execution_count": 5,
   "id": "0e62f892-b981-43bd-b976-f29ffeb4277b",
   "metadata": {},
   "outputs": [
    {
     "name": "stderr",
     "output_type": "stream",
     "text": [
      "___________________________________________________________________\n",
      "Processing: dummy | ../work/data/edfs/M06-v2.edf\n",
      " duration 07.36.44, 27404s | time 22.00.00 - 05.36.44 | date 01.01.85\n",
      "\n",
      " signals: 59 (of 59) selected in a standard EDF file\n",
      "  FP1 | FP2 | AF3 | AF4 | F7 | F5 | F3 | F1\n",
      "  F2 | F4 | F6 | F8 | FT7 | FC5 | FC3 | FC1\n",
      "  FC2 | FC4 | FC6 | FT8 | T7 | C5 | C3 | C1\n",
      "  C2 | C4 | C6 | T8 | TP7 | CP5 | CP3 | CP1\n",
      "  CP2 | CP4 | CP6 | TP8 | P7 | P5 | P3 | P1\n",
      "  P2 | P4 | P6 | P8 | PO3 | PO4 | O1 | O2\n",
      "  AFZ | FZ | FCZ | CZ | CPZ | PZ | POZ | OZ\n",
      "  A1 | A2 | FPZ\n"
     ]
    },
    {
     "data": {
      "text/plain": [
       "True"
      ]
     },
     "execution_count": 5,
     "metadata": {},
     "output_type": "execute_result"
    }
   ],
   "source": [
    "p.attach_edf( '../work/data/edfs/M06-v2.edf' )"
   ]
  },
  {
   "cell_type": "code",
   "execution_count": 6,
   "id": "488f9ac7-ce85-44c2-8bf3-5ffc894a527b",
   "metadata": {},
   "outputs": [
    {
     "name": "stderr",
     "output_type": "stream",
     "text": [
      " ..................................................................\n",
      " CMD #1: HEADERS\n",
      "   options: sig=*\n"
     ]
    },
    {
     "data": {
      "text/html": [
       "<div>\n",
       "<style scoped>\n",
       "    .dataframe tbody tr th:only-of-type {\n",
       "        vertical-align: middle;\n",
       "    }\n",
       "\n",
       "    .dataframe tbody tr th {\n",
       "        vertical-align: top;\n",
       "    }\n",
       "\n",
       "    .dataframe thead th {\n",
       "        text-align: right;\n",
       "    }\n",
       "</style>\n",
       "<table border=\"1\" class=\"dataframe\">\n",
       "  <thead>\n",
       "    <tr style=\"text-align: right;\">\n",
       "      <th></th>\n",
       "      <th>Command</th>\n",
       "      <th>Strata</th>\n",
       "    </tr>\n",
       "  </thead>\n",
       "  <tbody>\n",
       "    <tr>\n",
       "      <th>0</th>\n",
       "      <td>HEADERS</td>\n",
       "      <td>BL</td>\n",
       "    </tr>\n",
       "    <tr>\n",
       "      <th>1</th>\n",
       "      <td>HEADERS</td>\n",
       "      <td>CH</td>\n",
       "    </tr>\n",
       "  </tbody>\n",
       "</table>\n",
       "</div>"
      ],
      "text/plain": [
       "   Command Strata\n",
       "0  HEADERS     BL\n",
       "1  HEADERS     CH"
      ]
     },
     "execution_count": 6,
     "metadata": {},
     "output_type": "execute_result"
    }
   ],
   "source": [
    "p.eval( 'HEADERS' ) "
   ]
  },
  {
   "cell_type": "code",
   "execution_count": 7,
   "id": "e6f3e5b4-37ea-47ff-b0a1-a1b6afcded0f",
   "metadata": {},
   "outputs": [
    {
     "data": {
      "text/html": [
       "<div>\n",
       "<style scoped>\n",
       "    .dataframe tbody tr th:only-of-type {\n",
       "        vertical-align: middle;\n",
       "    }\n",
       "\n",
       "    .dataframe tbody tr th {\n",
       "        vertical-align: top;\n",
       "    }\n",
       "\n",
       "    .dataframe thead th {\n",
       "        text-align: right;\n",
       "    }\n",
       "</style>\n",
       "<table border=\"1\" class=\"dataframe\">\n",
       "  <thead>\n",
       "    <tr style=\"text-align: right;\">\n",
       "      <th></th>\n",
       "      <th>ID</th>\n",
       "      <th>EDF_ID</th>\n",
       "      <th>EDF_TYPE</th>\n",
       "      <th>NR</th>\n",
       "      <th>NS</th>\n",
       "      <th>NS_ALL</th>\n",
       "      <th>REC_DUR</th>\n",
       "      <th>REC_DUR_HMS</th>\n",
       "      <th>REC_DUR_SEC</th>\n",
       "      <th>START_DATE</th>\n",
       "      <th>START_TIME</th>\n",
       "      <th>STOP_TIME</th>\n",
       "      <th>TOT_DUR_HMS</th>\n",
       "      <th>TOT_DUR_SEC</th>\n",
       "    </tr>\n",
       "  </thead>\n",
       "  <tbody>\n",
       "    <tr>\n",
       "      <th>0</th>\n",
       "      <td>dummy</td>\n",
       "      <td>M06</td>\n",
       "      <td>EDF</td>\n",
       "      <td>27404</td>\n",
       "      <td>59</td>\n",
       "      <td>59</td>\n",
       "      <td>1.0</td>\n",
       "      <td>07:36:44</td>\n",
       "      <td>27404.0</td>\n",
       "      <td>01.01.85</td>\n",
       "      <td>22.00.00</td>\n",
       "      <td>05.36.44</td>\n",
       "      <td>07:36:44</td>\n",
       "      <td>27404.0</td>\n",
       "    </tr>\n",
       "  </tbody>\n",
       "</table>\n",
       "</div>"
      ],
      "text/plain": [
       "      ID EDF_ID EDF_TYPE     NR  NS NS_ALL REC_DUR REC_DUR_HMS REC_DUR_SEC  \\\n",
       "0  dummy    M06      EDF  27404  59     59     1.0    07:36:44     27404.0   \n",
       "\n",
       "  START_DATE START_TIME STOP_TIME TOT_DUR_HMS TOT_DUR_SEC  \n",
       "0   01.01.85   22.00.00  05.36.44    07:36:44     27404.0  "
      ]
     },
     "execution_count": 7,
     "metadata": {},
     "output_type": "execute_result"
    }
   ],
   "source": [
    "p.table( 'HEADERS' )"
   ]
  },
  {
   "cell_type": "markdown",
   "id": "91331fc4-54b3-437b-ab7f-9c927749b738",
   "metadata": {},
   "source": [
    "As expected, `REC_DUR` is now 1.0 (second)."
   ]
  },
  {
   "cell_type": "markdown",
   "id": "4460fa9e-9159-498a-aaa4-5edd874ac723",
   "metadata": {},
   "source": [
    "Finally, we'll simply copy the new EDF over the existing one (so the prior `s1.lst` sample list will now point to this new EDF)."
   ]
  },
  {
   "cell_type": "code",
   "execution_count": 8,
   "id": "b89ed6d5-8c7a-4b56-9a46-bb49c1144782",
   "metadata": {},
   "outputs": [],
   "source": [
    "%%sh\n",
    "mv ../work/data/edfs/M06-v2.edf ../work/data/edfs/M06.edf"
   ]
  }
 ],
 "metadata": {
  "kernelspec": {
   "display_name": "Python 3 (ipykernel)",
   "language": "python",
   "name": "python3"
  },
  "language_info": {
   "codemirror_mode": {
    "name": "ipython",
    "version": 3
   },
   "file_extension": ".py",
   "mimetype": "text/x-python",
   "name": "python",
   "nbconvert_exporter": "python",
   "pygments_lexer": "ipython3",
   "version": "3.9.6"
  }
 },
 "nbformat": 4,
 "nbformat_minor": 5
}
