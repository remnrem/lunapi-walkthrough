{
 "cells": [
  {
   "cell_type": "markdown",
   "id": "b2e726ea-f8f8-4f6c-a50d-e4f83114e053",
   "metadata": {
    "jp-MarkdownHeadingCollapsed": true
   },
   "source": [
    "URL index: [Home](https://zzz.bwh.harvard.edu/luna-walkthrough/) | [Data](https://zzz.bwh.harvard.edu/luna-walkthrough/data/) | [S1. File QC](https://zzz.bwh.harvard.edu/luna-walkthrough/p1/) | [S2. Signal QC](https://zzz.bwh.harvard.edu/luna-walkthrough/p2) | [S3. Staging](https://zzz.bwh.harvard.edu/luna-walkthrough/p3) | [S4. Artifacts](https://zzz.bwh.harvard.edu/luna-walkthrough/p4) | [S5. Analysis](https://zzz.bwh.harvard.edu/luna-walkthrough/p5)\n",
    "\n",
    "Notebook index: [Index](../00_index.ipynb) | [S1. File QC](../p1/00_index.ipynb) | [S2. Signal QC](../p2/00_index.ipynb) | [S3. Staging](../p3/00_index.ipynb) | [S4. Artifacts](../p4/00_index.ipynb) | [S5. Analysis](../p5/00_index.ipynb)\n",
    "\n",
    "---"
   ]
  },
  {
   "cell_type": "markdown",
   "id": "8725b0f7-2d36-45c2-ae72-69bc3dd32de4",
   "metadata": {},
   "source": [
    "#  1.2. Fixing invalid files\n",
    "\n",
    "Walkthrough URL = [https://zzz.bwh.harvard.edu/luna-walkthrough/p1/filefix/](https://zzz.bwh.harvard.edu/luna-walkthrough/p1/filefix/)"
   ]
  },
  {
   "cell_type": "markdown",
   "id": "c5329693-a776-4339-94eb-4102f6bb2753",
   "metadata": {},
   "source": [
    "Initiate lunapi and read the previously saved `s1.lst` sample list."
   ]
  },
  {
   "cell_type": "code",
   "execution_count": 1,
   "id": "a0001358-8f20-472e-ade2-96a2c2f3b8a3",
   "metadata": {},
   "outputs": [
    {
     "name": "stdout",
     "output_type": "stream",
     "text": [
      "initiated lunapi v0.1.1 <lunapi.lunapi0.luna object at 0x285b98af0> \n",
      "\n",
      "read 20 individuals from s1.lst\n"
     ]
    },
    {
     "data": {
      "text/html": [
       "<div>\n",
       "<style scoped>\n",
       "    .dataframe tbody tr th:only-of-type {\n",
       "        vertical-align: middle;\n",
       "    }\n",
       "\n",
       "    .dataframe tbody tr th {\n",
       "        vertical-align: top;\n",
       "    }\n",
       "\n",
       "    .dataframe thead th {\n",
       "        text-align: right;\n",
       "    }\n",
       "</style>\n",
       "<table border=\"1\" class=\"dataframe\">\n",
       "  <thead>\n",
       "    <tr style=\"text-align: right;\">\n",
       "      <th></th>\n",
       "      <th>ID</th>\n",
       "      <th>EDF</th>\n",
       "      <th>Annotations</th>\n",
       "    </tr>\n",
       "  </thead>\n",
       "  <tbody>\n",
       "    <tr>\n",
       "      <th>1</th>\n",
       "      <td>F01</td>\n",
       "      <td>../work/data//edfs/F01.edf</td>\n",
       "      <td>{../work/data//annots/F01.annot}</td>\n",
       "    </tr>\n",
       "    <tr>\n",
       "      <th>2</th>\n",
       "      <td>F02</td>\n",
       "      <td>../work/data//edfs/F02.edf</td>\n",
       "      <td>{../work/data//annots/F02.annot}</td>\n",
       "    </tr>\n",
       "    <tr>\n",
       "      <th>3</th>\n",
       "      <td>F03</td>\n",
       "      <td>../work/data//edfs/F03.edf</td>\n",
       "      <td>{../work/data//annots/F03.annot}</td>\n",
       "    </tr>\n",
       "    <tr>\n",
       "      <th>4</th>\n",
       "      <td>F04</td>\n",
       "      <td>../work/data//edfs/F04.edf</td>\n",
       "      <td>{../work/data//annots/F04.annot}</td>\n",
       "    </tr>\n",
       "    <tr>\n",
       "      <th>5</th>\n",
       "      <td>F05</td>\n",
       "      <td>../work/data//edfs/F05.edf</td>\n",
       "      <td>{../work/data//annots/F05.annot}</td>\n",
       "    </tr>\n",
       "    <tr>\n",
       "      <th>6</th>\n",
       "      <td>F06</td>\n",
       "      <td>../work/data//edfs/F06.edf</td>\n",
       "      <td>{../work/data//annots/F06.annot}</td>\n",
       "    </tr>\n",
       "    <tr>\n",
       "      <th>7</th>\n",
       "      <td>F07</td>\n",
       "      <td>../work/data//edfs/F07.edf</td>\n",
       "      <td>{../work/data//annots/F07.annot}</td>\n",
       "    </tr>\n",
       "    <tr>\n",
       "      <th>8</th>\n",
       "      <td>F08</td>\n",
       "      <td>../work/data//edfs/F08.edf</td>\n",
       "      <td>{../work/data//annots/F08.annot}</td>\n",
       "    </tr>\n",
       "    <tr>\n",
       "      <th>9</th>\n",
       "      <td>F09</td>\n",
       "      <td>../work/data//edfs/F09.edf</td>\n",
       "      <td>{../work/data//annots/F09.annot}</td>\n",
       "    </tr>\n",
       "    <tr>\n",
       "      <th>10</th>\n",
       "      <td>F10</td>\n",
       "      <td>../work/data//edfs/F10.edf</td>\n",
       "      <td>{../work/data//annots/F10.annot}</td>\n",
       "    </tr>\n",
       "    <tr>\n",
       "      <th>11</th>\n",
       "      <td>M01</td>\n",
       "      <td>../work/data//edfs/M01.edf</td>\n",
       "      <td>{../work/data//annots/M01.csv}</td>\n",
       "    </tr>\n",
       "    <tr>\n",
       "      <th>12</th>\n",
       "      <td>M02</td>\n",
       "      <td>../work/data//edfs/M02.edf</td>\n",
       "      <td>{../work/data//annots/M02.csv}</td>\n",
       "    </tr>\n",
       "    <tr>\n",
       "      <th>13</th>\n",
       "      <td>M03</td>\n",
       "      <td>../work/data//edfs/M03.edf</td>\n",
       "      <td>{../work/data//annots/M03.tsv}</td>\n",
       "    </tr>\n",
       "    <tr>\n",
       "      <th>14</th>\n",
       "      <td>M04</td>\n",
       "      <td>../work/data//edfs/M04.edf</td>\n",
       "      <td>{../work/data//annots/M04.tsv}</td>\n",
       "    </tr>\n",
       "    <tr>\n",
       "      <th>15</th>\n",
       "      <td>M05</td>\n",
       "      <td>../work/data//edfs/M05.edf</td>\n",
       "      <td>{../work/data//annots/M05.eannot}</td>\n",
       "    </tr>\n",
       "    <tr>\n",
       "      <th>16</th>\n",
       "      <td>M06</td>\n",
       "      <td>../work/data//edfs/M06.edf</td>\n",
       "      <td>{../work/data//annots/M06.eannot}</td>\n",
       "    </tr>\n",
       "    <tr>\n",
       "      <th>17</th>\n",
       "      <td>M07</td>\n",
       "      <td>../work/data//edfs/M07.edf</td>\n",
       "      <td>{../work/data//annots/M07.eannot}</td>\n",
       "    </tr>\n",
       "    <tr>\n",
       "      <th>18</th>\n",
       "      <td>M08</td>\n",
       "      <td>../work/data//edfs/M08.edf</td>\n",
       "      <td>{../work/data//annots/M08.eannot}</td>\n",
       "    </tr>\n",
       "    <tr>\n",
       "      <th>19</th>\n",
       "      <td>M09</td>\n",
       "      <td>../work/data//edfs/M09.edf</td>\n",
       "      <td>{../work/data//annots/M09.xml}</td>\n",
       "    </tr>\n",
       "    <tr>\n",
       "      <th>20</th>\n",
       "      <td>M10</td>\n",
       "      <td>../work/data//edfs/M10.edf</td>\n",
       "      <td>{../work/data//annots/M10.xml}</td>\n",
       "    </tr>\n",
       "  </tbody>\n",
       "</table>\n",
       "</div>"
      ],
      "text/plain": [
       "     ID                         EDF                        Annotations\n",
       "1   F01  ../work/data//edfs/F01.edf   {../work/data//annots/F01.annot}\n",
       "2   F02  ../work/data//edfs/F02.edf   {../work/data//annots/F02.annot}\n",
       "3   F03  ../work/data//edfs/F03.edf   {../work/data//annots/F03.annot}\n",
       "4   F04  ../work/data//edfs/F04.edf   {../work/data//annots/F04.annot}\n",
       "5   F05  ../work/data//edfs/F05.edf   {../work/data//annots/F05.annot}\n",
       "6   F06  ../work/data//edfs/F06.edf   {../work/data//annots/F06.annot}\n",
       "7   F07  ../work/data//edfs/F07.edf   {../work/data//annots/F07.annot}\n",
       "8   F08  ../work/data//edfs/F08.edf   {../work/data//annots/F08.annot}\n",
       "9   F09  ../work/data//edfs/F09.edf   {../work/data//annots/F09.annot}\n",
       "10  F10  ../work/data//edfs/F10.edf   {../work/data//annots/F10.annot}\n",
       "11  M01  ../work/data//edfs/M01.edf     {../work/data//annots/M01.csv}\n",
       "12  M02  ../work/data//edfs/M02.edf     {../work/data//annots/M02.csv}\n",
       "13  M03  ../work/data//edfs/M03.edf     {../work/data//annots/M03.tsv}\n",
       "14  M04  ../work/data//edfs/M04.edf     {../work/data//annots/M04.tsv}\n",
       "15  M05  ../work/data//edfs/M05.edf  {../work/data//annots/M05.eannot}\n",
       "16  M06  ../work/data//edfs/M06.edf  {../work/data//annots/M06.eannot}\n",
       "17  M07  ../work/data//edfs/M07.edf  {../work/data//annots/M07.eannot}\n",
       "18  M08  ../work/data//edfs/M08.edf  {../work/data//annots/M08.eannot}\n",
       "19  M09  ../work/data//edfs/M09.edf     {../work/data//annots/M09.xml}\n",
       "20  M10  ../work/data//edfs/M10.edf     {../work/data//annots/M10.xml}"
      ]
     },
     "execution_count": 1,
     "metadata": {},
     "output_type": "execute_result"
    }
   ],
   "source": [
    "import lunapi as lp\n",
    "proj = lp.proj()\n",
    "proj.sample_list( 's1.lst' )\n",
    "proj.sample_list() "
   ]
  },
  {
   "cell_type": "markdown",
   "id": "39d964c6-2ce3-4333-8379-6e565c1ad81d",
   "metadata": {},
   "source": [
    "As an example of how we can attach and view a valid fileset, e.g. for `F01`:"
   ]
  },
  {
   "cell_type": "code",
   "execution_count": 2,
   "id": "5eca0b26-0dcf-45b3-a7dc-31cc4c301e35",
   "metadata": {},
   "outputs": [
    {
     "name": "stderr",
     "output_type": "stream",
     "text": [
      "___________________________________________________________________\n",
      "Processing: F01 | ../work/data//edfs/F01.edf\n",
      " duration 03.00.30, 10830s | time 22.00.00 - 04.58.00 | date 01.01.85\n",
      "\n",
      " signals: 60 (of 60) selected in an EDF+D file\n",
      "  Fp1 | Fp2 | AF3 | AF4 | F7 | F5 | F3 | F1\n",
      "  F2 | F4 | F6 | F8 | FT7 | FC5 | FC3 | FC1\n",
      "  FC2 | FC4 | FC6 | FT8 | T7 | C5 | C3 | C1\n",
      "  C2 | C4 | C6 | T8 | TP7 | CP5 | CP3 | CP1\n",
      "  CP2 | CP4 | CP6 | TP8 | P7 | P5 | P3 | P1\n",
      "  P2 | P4 | P6 | P8 | PO3 | PO4 | O1 | O2\n",
      "  AFZ | FZ | FCZ | CZ | CPZ | PZ | POz | OZ\n",
      "  A1 | A2 | FPZ | EDF Annotations\n",
      "  extracting 'EDF Annotations' track from EDF+\n"
     ]
    }
   ],
   "source": [
    "p = proj.inst( 'F01' )"
   ]
  },
  {
   "cell_type": "code",
   "execution_count": 3,
   "id": "737f999b-53ad-4949-b9fc-36cdb63902da",
   "metadata": {},
   "outputs": [
    {
     "data": {
      "text/html": [
       "<div>\n",
       "<style scoped>\n",
       "    .dataframe tbody tr th:only-of-type {\n",
       "        vertical-align: middle;\n",
       "    }\n",
       "\n",
       "    .dataframe tbody tr th {\n",
       "        vertical-align: top;\n",
       "    }\n",
       "\n",
       "    .dataframe thead th {\n",
       "        text-align: right;\n",
       "    }\n",
       "</style>\n",
       "<table border=\"1\" class=\"dataframe\">\n",
       "  <thead>\n",
       "    <tr style=\"text-align: right;\">\n",
       "      <th></th>\n",
       "      <th>Value</th>\n",
       "    </tr>\n",
       "  </thead>\n",
       "  <tbody>\n",
       "    <tr>\n",
       "      <th>annotation_files</th>\n",
       "      <td>../work/data//annots/F01.annot</td>\n",
       "    </tr>\n",
       "    <tr>\n",
       "      <th>duration</th>\n",
       "      <td>03.00.30.000</td>\n",
       "    </tr>\n",
       "    <tr>\n",
       "      <th>edf_file</th>\n",
       "      <td>../work/data//edfs/F01.edf</td>\n",
       "    </tr>\n",
       "    <tr>\n",
       "      <th>id</th>\n",
       "      <td>F01</td>\n",
       "    </tr>\n",
       "    <tr>\n",
       "      <th>na</th>\n",
       "      <td>7</td>\n",
       "    </tr>\n",
       "    <tr>\n",
       "      <th>ns</th>\n",
       "      <td>59</td>\n",
       "    </tr>\n",
       "    <tr>\n",
       "      <th>nt</th>\n",
       "      <td>60</td>\n",
       "    </tr>\n",
       "    <tr>\n",
       "      <th>state</th>\n",
       "      <td>1</td>\n",
       "    </tr>\n",
       "  </tbody>\n",
       "</table>\n",
       "</div>"
      ],
      "text/plain": [
       "                                           Value\n",
       "annotation_files  ../work/data//annots/F01.annot\n",
       "duration                            03.00.30.000\n",
       "edf_file              ../work/data//edfs/F01.edf\n",
       "id                                           F01\n",
       "na                                             7\n",
       "ns                                            59\n",
       "nt                                            60\n",
       "state                                          1"
      ]
     },
     "execution_count": 3,
     "metadata": {},
     "output_type": "execute_result"
    }
   ],
   "source": [
    "p.stat()"
   ]
  },
  {
   "cell_type": "markdown",
   "id": "ac6dd388-fa8e-4fd8-8907-c7b28e2d8aaf",
   "metadata": {},
   "source": [
    "## Truncated EDFs"
   ]
  },
  {
   "cell_type": "markdown",
   "id": "b5680f41-05ca-414b-93e0-0294f4ff36ec",
   "metadata": {},
   "source": [
    "In contrast, we expect that `F06` and `F08` should give errors when we try to attach them, as they were flagged as _invalid_."
   ]
  },
  {
   "cell_type": "markdown",
   "id": "94cd87db-bfe1-4d67-97a4-332354ad8733",
   "metadata": {},
   "source": [
    "### F08"
   ]
  },
  {
   "cell_type": "markdown",
   "id": "6909a179-2ad4-4ef3-8aa7-b5f232d19575",
   "metadata": {},
   "source": [
    "This gives the same error `corrupt EDF, file < header size (256 bytes): ../work/data//edfs/F08.edf` as `F08.edf` has a corrupt header."
   ]
  },
  {
   "cell_type": "code",
   "execution_count": 4,
   "id": "e929c42c-7333-49fd-b83d-d0ed364e0e32",
   "metadata": {},
   "outputs": [
    {
     "ename": "RuntimeError",
     "evalue": "corrupt EDF, file < header size (256 bytes): ../work/data//edfs/F08.edf",
     "output_type": "error",
     "traceback": [
      "\u001b[0;31m---------------------------------------------------------------------------\u001b[0m",
      "\u001b[0;31mRuntimeError\u001b[0m                              Traceback (most recent call last)",
      "Cell \u001b[0;32mIn[4], line 1\u001b[0m\n\u001b[0;32m----> 1\u001b[0m p \u001b[38;5;241m=\u001b[39m \u001b[43mproj\u001b[49m\u001b[38;5;241;43m.\u001b[39;49m\u001b[43minst\u001b[49m\u001b[43m(\u001b[49m\u001b[43m \u001b[49m\u001b[38;5;124;43m'\u001b[39;49m\u001b[38;5;124;43mF08\u001b[39;49m\u001b[38;5;124;43m'\u001b[39;49m\u001b[43m \u001b[49m\u001b[43m)\u001b[49m\n",
      "File \u001b[0;32m~/Library/Python/3.9/lib/python/site-packages/lunapi/lunapi1.py:199\u001b[0m, in \u001b[0;36mproj.inst\u001b[0;34m(self, n)\u001b[0m\n\u001b[1;32m    196\u001b[0m    \u001b[38;5;28;01mif\u001b[39;00m \u001b[38;5;28mtype\u001b[39m(sn) \u001b[38;5;129;01mis\u001b[39;00m \u001b[38;5;28mint\u001b[39m: n \u001b[38;5;241m=\u001b[39m sn\n\u001b[1;32m    198\u001b[0m \u001b[38;5;66;03m# return based on n (from sample-list) or string/empty (new instance)\u001b[39;00m\n\u001b[0;32m--> 199\u001b[0m \u001b[38;5;28;01mreturn\u001b[39;00m inst(\u001b[43mproj\u001b[49m\u001b[38;5;241;43m.\u001b[39;49m\u001b[43meng\u001b[49m\u001b[38;5;241;43m.\u001b[39;49m\u001b[43minst\u001b[49m\u001b[43m(\u001b[49m\u001b[43m \u001b[49m\u001b[43mn\u001b[49m\u001b[43m \u001b[49m\u001b[43m)\u001b[49m)\n",
      "\u001b[0;31mRuntimeError\u001b[0m: corrupt EDF, file < header size (256 bytes): ../work/data//edfs/F08.edf"
     ]
    }
   ],
   "source": [
    "p = proj.inst( 'F08' )"
   ]
  },
  {
   "cell_type": "markdown",
   "id": "08bc8d5a-a173-48b5-8f16-c8a4b41327c8",
   "metadata": {},
   "source": [
    "### F06"
   ]
  },
  {
   "cell_type": "markdown",
   "id": "cc583daa-f4b2-4c9e-9866-1b47784de083",
   "metadata": {},
   "source": [
    "Similarly, we expect an error -- although this is one that we can potentially \"fix\" (i.e. as the truncation is a very small one, just the final EDF record is truncated (< 1 second loss)."
   ]
  },
  {
   "cell_type": "code",
   "execution_count": 5,
   "id": "9c67a461-83ee-464d-8088-d6f237d3fd2a",
   "metadata": {},
   "outputs": [
    {
     "ename": "RuntimeError",
     "evalue": "corrupt EDF: expecting 370214400 but observed 370210000 bytes: ../work/data//edfs/F06.edf\ndetails:\n  header size ( = 256 + # signals * 256 ) = 15360\n  num signals = 59\n  record size = 15104\n  number of records = 24510\n  implied EDF size from header = 15360 + 15104 * 24510 = 370214400\n\n  assuming header correct, implies the file has -0.291314 records too many\n  (where one record is 1 seconds)\n\nIF you're confident about the remaining data you can add the option:\n\n    luna s.lst fix-edf=T ... \n\n  to attempt to fix this.  This may be appropriate under some circumstances, e.g.\n  if just the last one or two records were clipped.  However, if other EDF header\n  information is incorrect (e.g. number of signals, sample rates), then you'll be\n  dealing with GIGO... so be sure to carefully check all signals for expected properties;\n  really you should try to determine why the EDF was invalid in the first instance, though\n",
     "output_type": "error",
     "traceback": [
      "\u001b[0;31m---------------------------------------------------------------------------\u001b[0m",
      "\u001b[0;31mRuntimeError\u001b[0m                              Traceback (most recent call last)",
      "Cell \u001b[0;32mIn[5], line 1\u001b[0m\n\u001b[0;32m----> 1\u001b[0m p \u001b[38;5;241m=\u001b[39m \u001b[43mproj\u001b[49m\u001b[38;5;241;43m.\u001b[39;49m\u001b[43minst\u001b[49m\u001b[43m(\u001b[49m\u001b[43m \u001b[49m\u001b[38;5;124;43m'\u001b[39;49m\u001b[38;5;124;43mF06\u001b[39;49m\u001b[38;5;124;43m'\u001b[39;49m\u001b[43m \u001b[49m\u001b[43m)\u001b[49m\n",
      "File \u001b[0;32m~/Library/Python/3.9/lib/python/site-packages/lunapi/lunapi1.py:199\u001b[0m, in \u001b[0;36mproj.inst\u001b[0;34m(self, n)\u001b[0m\n\u001b[1;32m    196\u001b[0m    \u001b[38;5;28;01mif\u001b[39;00m \u001b[38;5;28mtype\u001b[39m(sn) \u001b[38;5;129;01mis\u001b[39;00m \u001b[38;5;28mint\u001b[39m: n \u001b[38;5;241m=\u001b[39m sn\n\u001b[1;32m    198\u001b[0m \u001b[38;5;66;03m# return based on n (from sample-list) or string/empty (new instance)\u001b[39;00m\n\u001b[0;32m--> 199\u001b[0m \u001b[38;5;28;01mreturn\u001b[39;00m inst(\u001b[43mproj\u001b[49m\u001b[38;5;241;43m.\u001b[39;49m\u001b[43meng\u001b[49m\u001b[38;5;241;43m.\u001b[39;49m\u001b[43minst\u001b[49m\u001b[43m(\u001b[49m\u001b[43m \u001b[49m\u001b[43mn\u001b[49m\u001b[43m \u001b[49m\u001b[43m)\u001b[49m)\n",
      "\u001b[0;31mRuntimeError\u001b[0m: corrupt EDF: expecting 370214400 but observed 370210000 bytes: ../work/data//edfs/F06.edf\ndetails:\n  header size ( = 256 + # signals * 256 ) = 15360\n  num signals = 59\n  record size = 15104\n  number of records = 24510\n  implied EDF size from header = 15360 + 15104 * 24510 = 370214400\n\n  assuming header correct, implies the file has -0.291314 records too many\n  (where one record is 1 seconds)\n\nIF you're confident about the remaining data you can add the option:\n\n    luna s.lst fix-edf=T ... \n\n  to attempt to fix this.  This may be appropriate under some circumstances, e.g.\n  if just the last one or two records were clipped.  However, if other EDF header\n  information is incorrect (e.g. number of signals, sample rates), then you'll be\n  dealing with GIGO... so be sure to carefully check all signals for expected properties;\n  really you should try to determine why the EDF was invalid in the first instance, though\n"
     ]
    }
   ],
   "source": [
    "p = proj.inst( 'F06' )"
   ]
  },
  {
   "cell_type": "markdown",
   "id": "8a54ae17-5525-48e6-9093-45b7893eb1d3",
   "metadata": {},
   "source": [
    "To attempt to \"fix\" this by ignoring that final, partial EDF record: "
   ]
  },
  {
   "cell_type": "code",
   "execution_count": 6,
   "id": "86fd5bf2-ee7b-4bd9-96cd-ada50b39d270",
   "metadata": {},
   "outputs": [],
   "source": [
    "proj.var( 'fix-edf' , 'T' )"
   ]
  },
  {
   "cell_type": "markdown",
   "id": "04508a5a-b08a-4053-b506-42273084454e",
   "metadata": {},
   "source": [
    "Check/review that the `fix-edf` variable was set (this also lists a bunch of internal variables)."
   ]
  },
  {
   "cell_type": "code",
   "execution_count": 7,
   "id": "72f39ff7-2a7b-4987-b300-ab8e7e1d2a4f",
   "metadata": {},
   "outputs": [
    {
     "data": {
      "text/plain": [
       "{'fix-edf': 'T', 'sleep': 'N1,N2,N3,R'}"
      ]
     },
     "execution_count": 7,
     "metadata": {},
     "output_type": "execute_result"
    }
   ],
   "source": [
    "proj.vars()"
   ]
  },
  {
   "cell_type": "markdown",
   "id": "0f09b6be-6884-4714-95c0-3a86533bd95f",
   "metadata": {},
   "source": [
    "Attach `F06` as above, but now with `fix-edf` set to `T`."
   ]
  },
  {
   "cell_type": "code",
   "execution_count": 8,
   "id": "92354f54-48bc-4c0d-855d-454c0e0711db",
   "metadata": {
    "scrolled": true
   },
   "outputs": [
    {
     "name": "stderr",
     "output_type": "stream",
     "text": [
      "  warning: EDF has incorrect file size given header information:\n",
      "\n",
      "details:\n",
      "  header size ( = 256 + # signals * 256 ) = 15360\n",
      "  num signals = 59\n",
      "  record size = 15104\n",
      "  number of records = 24510\n",
      "  implied EDF size from header = 15360 + 15104 * 24510 = 370214400\n",
      "\n",
      "  assuming header correct, implies the file has -0.291314 records too many\n",
      "  (where one record is 1 seconds)\n",
      "\n",
      "  attempting to fix this, changing the header number of records from 24510 to 24509 ... good luck!\n",
      "___________________________________________________________________\n",
      "Processing: F06 | ../work/data//edfs/F06.edf\n",
      " duration 06.48.29, 24509s | time 22.00.00 - 04.48.29 | date 01.01.85\n",
      "\n",
      " signals: 59 (of 59) selected in a standard EDF file\n",
      "  Fp1 | Fp2 | AF3 | AF4 | F7 | F5 | F3 | F1\n",
      "  F2 | F4 | F6 | F8 | FT7 | FC5 | FC3 | FC1\n",
      "  FC2 | FC4 | FC6 | FT8 | T7 | C5 | C3 | C1\n",
      "  C2 | C4 | C6 | T8 | TP7 | CP5 | CP3 | CP1\n",
      "  CP2 | CP4 | CP6 | TP8 | P7 | P5 | P3 | P1\n",
      "  P2 | P4 | P6 | P8 | PO3 | PO4 | O1 | O2\n",
      "  AFZ | FZ | FCZ | CZ | CPZ | PZ | POz | OZ\n",
      "  A1 | A2 | FPZ\n"
     ]
    }
   ],
   "source": [
    "p = proj.inst( 'F06' )"
   ]
  },
  {
   "cell_type": "markdown",
   "id": "82caa072-ae99-4ef7-acbc-a69d480317e3",
   "metadata": {},
   "source": [
    "This works:"
   ]
  },
  {
   "cell_type": "code",
   "execution_count": 9,
   "id": "75f4253c-4b1b-4fa1-8de8-ea1f7a4e9e62",
   "metadata": {},
   "outputs": [
    {
     "data": {
      "text/html": [
       "<div>\n",
       "<style scoped>\n",
       "    .dataframe tbody tr th:only-of-type {\n",
       "        vertical-align: middle;\n",
       "    }\n",
       "\n",
       "    .dataframe tbody tr th {\n",
       "        vertical-align: top;\n",
       "    }\n",
       "\n",
       "    .dataframe thead th {\n",
       "        text-align: right;\n",
       "    }\n",
       "</style>\n",
       "<table border=\"1\" class=\"dataframe\">\n",
       "  <thead>\n",
       "    <tr style=\"text-align: right;\">\n",
       "      <th></th>\n",
       "      <th>Value</th>\n",
       "    </tr>\n",
       "  </thead>\n",
       "  <tbody>\n",
       "    <tr>\n",
       "      <th>annotation_files</th>\n",
       "      <td>../work/data//annots/F06.annot</td>\n",
       "    </tr>\n",
       "    <tr>\n",
       "      <th>duration</th>\n",
       "      <td>06.48.29.000</td>\n",
       "    </tr>\n",
       "    <tr>\n",
       "      <th>edf_file</th>\n",
       "      <td>../work/data//edfs/F06.edf</td>\n",
       "    </tr>\n",
       "    <tr>\n",
       "      <th>id</th>\n",
       "      <td>F06</td>\n",
       "    </tr>\n",
       "    <tr>\n",
       "      <th>na</th>\n",
       "      <td>5</td>\n",
       "    </tr>\n",
       "    <tr>\n",
       "      <th>ns</th>\n",
       "      <td>59</td>\n",
       "    </tr>\n",
       "    <tr>\n",
       "      <th>nt</th>\n",
       "      <td>59</td>\n",
       "    </tr>\n",
       "    <tr>\n",
       "      <th>state</th>\n",
       "      <td>1</td>\n",
       "    </tr>\n",
       "  </tbody>\n",
       "</table>\n",
       "</div>"
      ],
      "text/plain": [
       "                                           Value\n",
       "annotation_files  ../work/data//annots/F06.annot\n",
       "duration                            06.48.29.000\n",
       "edf_file              ../work/data//edfs/F06.edf\n",
       "id                                           F06\n",
       "na                                             5\n",
       "ns                                            59\n",
       "nt                                            59\n",
       "state                                          1"
      ]
     },
     "execution_count": 9,
     "metadata": {},
     "output_type": "execute_result"
    }
   ],
   "source": [
    "p.stat()"
   ]
  },
  {
   "cell_type": "markdown",
   "id": "bfe76c7b-baa9-4d12-ae96-42a4d3c4912e",
   "metadata": {},
   "source": [
    "## Fixing EDFs"
   ]
  },
  {
   "cell_type": "markdown",
   "id": "fa943b44-81bf-4283-a425-1edf130f2409",
   "metadata": {},
   "source": [
    "We'll copy the `v1` versions as the \"fix\" here:"
   ]
  },
  {
   "cell_type": "code",
   "execution_count": 10,
   "id": "e2f53f8f-6862-4898-b011-b1e3fcfcb5c3",
   "metadata": {},
   "outputs": [],
   "source": [
    "%%sh\n",
    "cp ../orig/v1/edfs/F06.edf ../orig/v1/edfs/F08.edf ../work/data/edfs/"
   ]
  },
  {
   "cell_type": "markdown",
   "id": "62ce9406-2330-491f-9c53-a7291279050f",
   "metadata": {},
   "source": [
    "The validate step also flagged some bad annotation files."
   ]
  },
  {
   "cell_type": "markdown",
   "id": "9bb9844b-2f63-4eb9-a528-d629b12755c4",
   "metadata": {},
   "source": [
    "## Invalid annotation file formats"
   ]
  },
  {
   "cell_type": "markdown",
   "id": "6dd46b70-9a2f-4951-a175-0ab24bf99eed",
   "metadata": {},
   "source": [
    "### CSV files"
   ]
  },
  {
   "cell_type": "markdown",
   "id": "eaa6f5fc-8a1f-426b-b9a0-277a3eabe1dc",
   "metadata": {},
   "source": [
    "Luna does not accept .csv files, so these need to be converted, e.g. here with command-line tools (`sed`)."
   ]
  },
  {
   "cell_type": "code",
   "execution_count": 11,
   "id": "b8dc98cb-7d62-4a8c-8364-328b9b4c1844",
   "metadata": {},
   "outputs": [
    {
     "name": "stdout",
     "output_type": "stream",
     "text": [
      "class,start,stop\n",
      "W,22:00:00,22:00:30\n",
      "W,22:00:30,22:01:00\n",
      "W,22:01:00,22:01:30\n",
      "W,22:01:30,22:02:00\n",
      "W,22:02:00,22:02:30\n",
      "W,22:02:30,22:03:00\n",
      "N1,22:03:00,22:03:30\n",
      "N1,22:03:30,22:04:00\n",
      "N1,22:04:00,22:04:30\n"
     ]
    }
   ],
   "source": [
    "%%sh\n",
    "head ../work/data/annots/M01.csv"
   ]
  },
  {
   "cell_type": "code",
   "execution_count": 12,
   "id": "2f59feaa-4afd-49b0-940a-b8ad6acb45c3",
   "metadata": {},
   "outputs": [],
   "source": [
    "%%sh\n",
    "sed 's/,/\\t/g' < ../work/data/annots/M01.csv > ../work/data/annots/M01.tsv\n",
    "sed 's/,/\\t/g' < ../work/data/annots/M02.csv > ../work/data/annots/M02.tsv\n"
   ]
  },
  {
   "cell_type": "markdown",
   "id": "70c4d689-914d-4464-a038-7d461ab91c8a",
   "metadata": {},
   "source": [
    "### TSV files"
   ]
  },
  {
   "cell_type": "markdown",
   "id": "9d6481d2-218a-4149-9811-5a899b66c4b3",
   "metadata": {},
   "source": [
    "These .tsv files had columns in the wrong order.  We'll change that using `awk`."
   ]
  },
  {
   "cell_type": "code",
   "execution_count": 13,
   "id": "17bf8dd0-5213-48f5-812d-f7cf46260264",
   "metadata": {},
   "outputs": [],
   "source": [
    "%%sh\n",
    "\n",
    "awk ' { print $2 , $1 , $3 } ' OFS=\"\\t\" ../work/data/annots/M03.tsv > xx\n",
    "mv xx ../work/data/annots/M03.tsv\n",
    "\n",
    "awk ' { print $2 , $1 , $3 } ' OFS=\"\\t\" ../work/data/annots/M04.tsv > xx\n",
    "mv xx ../work/data/annots/M04.tsv\n"
   ]
  },
  {
   "cell_type": "markdown",
   "id": "6e5182d8-fe3d-4975-805e-16c2083f58e0",
   "metadata": {},
   "source": [
    "## Validating the final set"
   ]
  },
  {
   "cell_type": "markdown",
   "id": "6ce42afc-0b67-467f-b82a-b0fe466122e9",
   "metadata": {},
   "source": [
    "Having replaced/changed the offending EDFs and annotation files, we can try to remake the sample list, this time excluding the incorrectly-included .csv files, as we've now made .tsv files for those two individuals."
   ]
  },
  {
   "cell_type": "code",
   "execution_count": 14,
   "id": "54f556db-bba4-456c-8063-4af86daabd03",
   "metadata": {},
   "outputs": [
    {
     "data": {
      "text/plain": [
       "20"
      ]
     },
     "execution_count": 14,
     "metadata": {},
     "output_type": "execute_result"
    }
   ],
   "source": [
    "proj.build( [ '../work/data/edfs/', '../work/data/annots', '-ext=annot,eannot,xml,tsv' ] )"
   ]
  },
  {
   "cell_type": "code",
   "execution_count": 15,
   "id": "2e45dfbd-d31a-47e0-a458-78e684721538",
   "metadata": {},
   "outputs": [
    {
     "name": "stdout",
     "output_type": "stream",
     "text": [
      "F01.annot\n",
      "F02.annot\n",
      "F03.annot\n",
      "F04.annot\n",
      "F05.annot\n",
      "F06.annot\n",
      "F07.annot\n",
      "F08.annot\n",
      "F09.annot\n",
      "F10.annot\n",
      "M01.csv\n",
      "M01.tsv\n",
      "M02.csv\n",
      "M02.tsv\n",
      "M03.tsv\n",
      "M04.tsv\n",
      "M05.eannot\n",
      "M06.eannot\n",
      "M07.eannot\n",
      "M08.eannot\n",
      "M09.xml\n",
      "M10.xml\n"
     ]
    }
   ],
   "source": [
    "%%sh\n",
    "ls ../work/data/annots"
   ]
  },
  {
   "cell_type": "code",
   "execution_count": 16,
   "id": "a6cb3f84-50a1-4c7b-a99e-977811633e8f",
   "metadata": {},
   "outputs": [
    {
     "data": {
      "text/html": [
       "<div>\n",
       "<style scoped>\n",
       "    .dataframe tbody tr th:only-of-type {\n",
       "        vertical-align: middle;\n",
       "    }\n",
       "\n",
       "    .dataframe tbody tr th {\n",
       "        vertical-align: top;\n",
       "    }\n",
       "\n",
       "    .dataframe thead th {\n",
       "        text-align: right;\n",
       "    }\n",
       "</style>\n",
       "<table border=\"1\" class=\"dataframe\">\n",
       "  <thead>\n",
       "    <tr style=\"text-align: right;\">\n",
       "      <th></th>\n",
       "      <th>ID</th>\n",
       "      <th>EDF</th>\n",
       "      <th>Annotations</th>\n",
       "    </tr>\n",
       "  </thead>\n",
       "  <tbody>\n",
       "    <tr>\n",
       "      <th>1</th>\n",
       "      <td>F01</td>\n",
       "      <td>../work/data/edfs//F01.edf</td>\n",
       "      <td>{../work/data/annots/F01.annot}</td>\n",
       "    </tr>\n",
       "    <tr>\n",
       "      <th>2</th>\n",
       "      <td>F02</td>\n",
       "      <td>../work/data/edfs//F02.edf</td>\n",
       "      <td>{../work/data/annots/F02.annot}</td>\n",
       "    </tr>\n",
       "    <tr>\n",
       "      <th>3</th>\n",
       "      <td>F03</td>\n",
       "      <td>../work/data/edfs//F03.edf</td>\n",
       "      <td>{../work/data/annots/F03.annot}</td>\n",
       "    </tr>\n",
       "    <tr>\n",
       "      <th>4</th>\n",
       "      <td>F04</td>\n",
       "      <td>../work/data/edfs//F04.edf</td>\n",
       "      <td>{../work/data/annots/F04.annot}</td>\n",
       "    </tr>\n",
       "    <tr>\n",
       "      <th>5</th>\n",
       "      <td>F05</td>\n",
       "      <td>../work/data/edfs//F05.edf</td>\n",
       "      <td>{../work/data/annots/F05.annot}</td>\n",
       "    </tr>\n",
       "    <tr>\n",
       "      <th>6</th>\n",
       "      <td>F06</td>\n",
       "      <td>../work/data/edfs//F06.edf</td>\n",
       "      <td>{../work/data/annots/F06.annot}</td>\n",
       "    </tr>\n",
       "    <tr>\n",
       "      <th>7</th>\n",
       "      <td>F07</td>\n",
       "      <td>../work/data/edfs//F07.edf</td>\n",
       "      <td>{../work/data/annots/F07.annot}</td>\n",
       "    </tr>\n",
       "    <tr>\n",
       "      <th>8</th>\n",
       "      <td>F08</td>\n",
       "      <td>../work/data/edfs//F08.edf</td>\n",
       "      <td>{../work/data/annots/F08.annot}</td>\n",
       "    </tr>\n",
       "    <tr>\n",
       "      <th>9</th>\n",
       "      <td>F09</td>\n",
       "      <td>../work/data/edfs//F09.edf</td>\n",
       "      <td>{../work/data/annots/F09.annot}</td>\n",
       "    </tr>\n",
       "    <tr>\n",
       "      <th>10</th>\n",
       "      <td>F10</td>\n",
       "      <td>../work/data/edfs//F10.edf</td>\n",
       "      <td>{../work/data/annots/F10.annot}</td>\n",
       "    </tr>\n",
       "    <tr>\n",
       "      <th>11</th>\n",
       "      <td>M01</td>\n",
       "      <td>../work/data/edfs//M01.edf</td>\n",
       "      <td>{../work/data/annots/M01.tsv}</td>\n",
       "    </tr>\n",
       "    <tr>\n",
       "      <th>12</th>\n",
       "      <td>M02</td>\n",
       "      <td>../work/data/edfs//M02.edf</td>\n",
       "      <td>{../work/data/annots/M02.tsv}</td>\n",
       "    </tr>\n",
       "    <tr>\n",
       "      <th>13</th>\n",
       "      <td>M03</td>\n",
       "      <td>../work/data/edfs//M03.edf</td>\n",
       "      <td>{../work/data/annots/M03.tsv}</td>\n",
       "    </tr>\n",
       "    <tr>\n",
       "      <th>14</th>\n",
       "      <td>M04</td>\n",
       "      <td>../work/data/edfs//M04.edf</td>\n",
       "      <td>{../work/data/annots/M04.tsv}</td>\n",
       "    </tr>\n",
       "    <tr>\n",
       "      <th>15</th>\n",
       "      <td>M05</td>\n",
       "      <td>../work/data/edfs//M05.edf</td>\n",
       "      <td>{../work/data/annots/M05.eannot}</td>\n",
       "    </tr>\n",
       "    <tr>\n",
       "      <th>16</th>\n",
       "      <td>M06</td>\n",
       "      <td>../work/data/edfs//M06.edf</td>\n",
       "      <td>{../work/data/annots/M06.eannot}</td>\n",
       "    </tr>\n",
       "    <tr>\n",
       "      <th>17</th>\n",
       "      <td>M07</td>\n",
       "      <td>../work/data/edfs//M07.edf</td>\n",
       "      <td>{../work/data/annots/M07.eannot}</td>\n",
       "    </tr>\n",
       "    <tr>\n",
       "      <th>18</th>\n",
       "      <td>M08</td>\n",
       "      <td>../work/data/edfs//M08.edf</td>\n",
       "      <td>{../work/data/annots/M08.eannot}</td>\n",
       "    </tr>\n",
       "    <tr>\n",
       "      <th>19</th>\n",
       "      <td>M09</td>\n",
       "      <td>../work/data/edfs//M09.edf</td>\n",
       "      <td>{../work/data/annots/M09.xml}</td>\n",
       "    </tr>\n",
       "    <tr>\n",
       "      <th>20</th>\n",
       "      <td>M10</td>\n",
       "      <td>../work/data/edfs//M10.edf</td>\n",
       "      <td>{../work/data/annots/M10.xml}</td>\n",
       "    </tr>\n",
       "  </tbody>\n",
       "</table>\n",
       "</div>"
      ],
      "text/plain": [
       "     ID                         EDF                       Annotations\n",
       "1   F01  ../work/data/edfs//F01.edf   {../work/data/annots/F01.annot}\n",
       "2   F02  ../work/data/edfs//F02.edf   {../work/data/annots/F02.annot}\n",
       "3   F03  ../work/data/edfs//F03.edf   {../work/data/annots/F03.annot}\n",
       "4   F04  ../work/data/edfs//F04.edf   {../work/data/annots/F04.annot}\n",
       "5   F05  ../work/data/edfs//F05.edf   {../work/data/annots/F05.annot}\n",
       "6   F06  ../work/data/edfs//F06.edf   {../work/data/annots/F06.annot}\n",
       "7   F07  ../work/data/edfs//F07.edf   {../work/data/annots/F07.annot}\n",
       "8   F08  ../work/data/edfs//F08.edf   {../work/data/annots/F08.annot}\n",
       "9   F09  ../work/data/edfs//F09.edf   {../work/data/annots/F09.annot}\n",
       "10  F10  ../work/data/edfs//F10.edf   {../work/data/annots/F10.annot}\n",
       "11  M01  ../work/data/edfs//M01.edf     {../work/data/annots/M01.tsv}\n",
       "12  M02  ../work/data/edfs//M02.edf     {../work/data/annots/M02.tsv}\n",
       "13  M03  ../work/data/edfs//M03.edf     {../work/data/annots/M03.tsv}\n",
       "14  M04  ../work/data/edfs//M04.edf     {../work/data/annots/M04.tsv}\n",
       "15  M05  ../work/data/edfs//M05.edf  {../work/data/annots/M05.eannot}\n",
       "16  M06  ../work/data/edfs//M06.edf  {../work/data/annots/M06.eannot}\n",
       "17  M07  ../work/data/edfs//M07.edf  {../work/data/annots/M07.eannot}\n",
       "18  M08  ../work/data/edfs//M08.edf  {../work/data/annots/M08.eannot}\n",
       "19  M09  ../work/data/edfs//M09.edf     {../work/data/annots/M09.xml}\n",
       "20  M10  ../work/data/edfs//M10.edf     {../work/data/annots/M10.xml}"
      ]
     },
     "execution_count": 16,
     "metadata": {},
     "output_type": "execute_result"
    }
   ],
   "source": [
    "proj.sample_list()"
   ]
  },
  {
   "cell_type": "markdown",
   "id": "96ef348a-c7eb-462f-9da2-070ad3be43e5",
   "metadata": {},
   "source": [
    "## Revalidate the sample list"
   ]
  },
  {
   "cell_type": "code",
   "execution_count": 17,
   "id": "1014f92c-0d5d-43d5-ac18-91d998792215",
   "metadata": {},
   "outputs": [],
   "source": [
    "tbl = proj.validate()"
   ]
  },
  {
   "cell_type": "code",
   "execution_count": 18,
   "id": "e629bebe-c6f3-4c7b-9411-221378b253fc",
   "metadata": {},
   "outputs": [
    {
     "data": {
      "text/html": [
       "<div>\n",
       "<style scoped>\n",
       "    .dataframe tbody tr th:only-of-type {\n",
       "        vertical-align: middle;\n",
       "    }\n",
       "\n",
       "    .dataframe tbody tr th {\n",
       "        vertical-align: top;\n",
       "    }\n",
       "\n",
       "    .dataframe thead th {\n",
       "        text-align: right;\n",
       "    }\n",
       "</style>\n",
       "<table border=\"1\" class=\"dataframe\">\n",
       "  <thead>\n",
       "    <tr style=\"text-align: right;\">\n",
       "      <th></th>\n",
       "      <th>ID</th>\n",
       "      <th>Filename</th>\n",
       "      <th>Valid</th>\n",
       "    </tr>\n",
       "  </thead>\n",
       "  <tbody>\n",
       "    <tr>\n",
       "      <th>1</th>\n",
       "      <td>F01</td>\n",
       "      <td>../work/data/edfs//F01.edf</td>\n",
       "      <td>True</td>\n",
       "    </tr>\n",
       "    <tr>\n",
       "      <th>2</th>\n",
       "      <td>F01</td>\n",
       "      <td>../work/data/annots/F01.annot</td>\n",
       "      <td>True</td>\n",
       "    </tr>\n",
       "    <tr>\n",
       "      <th>3</th>\n",
       "      <td>F02</td>\n",
       "      <td>../work/data/edfs//F02.edf</td>\n",
       "      <td>True</td>\n",
       "    </tr>\n",
       "    <tr>\n",
       "      <th>4</th>\n",
       "      <td>F02</td>\n",
       "      <td>../work/data/annots/F02.annot</td>\n",
       "      <td>True</td>\n",
       "    </tr>\n",
       "    <tr>\n",
       "      <th>5</th>\n",
       "      <td>F03</td>\n",
       "      <td>../work/data/edfs//F03.edf</td>\n",
       "      <td>True</td>\n",
       "    </tr>\n",
       "    <tr>\n",
       "      <th>6</th>\n",
       "      <td>F03</td>\n",
       "      <td>../work/data/annots/F03.annot</td>\n",
       "      <td>True</td>\n",
       "    </tr>\n",
       "    <tr>\n",
       "      <th>7</th>\n",
       "      <td>F04</td>\n",
       "      <td>../work/data/edfs//F04.edf</td>\n",
       "      <td>True</td>\n",
       "    </tr>\n",
       "    <tr>\n",
       "      <th>8</th>\n",
       "      <td>F04</td>\n",
       "      <td>../work/data/annots/F04.annot</td>\n",
       "      <td>True</td>\n",
       "    </tr>\n",
       "    <tr>\n",
       "      <th>9</th>\n",
       "      <td>F05</td>\n",
       "      <td>../work/data/edfs//F05.edf</td>\n",
       "      <td>True</td>\n",
       "    </tr>\n",
       "    <tr>\n",
       "      <th>10</th>\n",
       "      <td>F05</td>\n",
       "      <td>../work/data/annots/F05.annot</td>\n",
       "      <td>True</td>\n",
       "    </tr>\n",
       "    <tr>\n",
       "      <th>11</th>\n",
       "      <td>F06</td>\n",
       "      <td>../work/data/edfs//F06.edf</td>\n",
       "      <td>True</td>\n",
       "    </tr>\n",
       "    <tr>\n",
       "      <th>12</th>\n",
       "      <td>F06</td>\n",
       "      <td>../work/data/annots/F06.annot</td>\n",
       "      <td>True</td>\n",
       "    </tr>\n",
       "    <tr>\n",
       "      <th>13</th>\n",
       "      <td>F07</td>\n",
       "      <td>../work/data/edfs//F07.edf</td>\n",
       "      <td>True</td>\n",
       "    </tr>\n",
       "    <tr>\n",
       "      <th>14</th>\n",
       "      <td>F07</td>\n",
       "      <td>../work/data/annots/F07.annot</td>\n",
       "      <td>True</td>\n",
       "    </tr>\n",
       "    <tr>\n",
       "      <th>15</th>\n",
       "      <td>F08</td>\n",
       "      <td>../work/data/edfs//F08.edf</td>\n",
       "      <td>True</td>\n",
       "    </tr>\n",
       "    <tr>\n",
       "      <th>16</th>\n",
       "      <td>F08</td>\n",
       "      <td>../work/data/annots/F08.annot</td>\n",
       "      <td>True</td>\n",
       "    </tr>\n",
       "    <tr>\n",
       "      <th>17</th>\n",
       "      <td>F09</td>\n",
       "      <td>../work/data/edfs//F09.edf</td>\n",
       "      <td>True</td>\n",
       "    </tr>\n",
       "    <tr>\n",
       "      <th>18</th>\n",
       "      <td>F09</td>\n",
       "      <td>../work/data/annots/F09.annot</td>\n",
       "      <td>True</td>\n",
       "    </tr>\n",
       "    <tr>\n",
       "      <th>19</th>\n",
       "      <td>F10</td>\n",
       "      <td>../work/data/edfs//F10.edf</td>\n",
       "      <td>True</td>\n",
       "    </tr>\n",
       "    <tr>\n",
       "      <th>20</th>\n",
       "      <td>F10</td>\n",
       "      <td>../work/data/annots/F10.annot</td>\n",
       "      <td>True</td>\n",
       "    </tr>\n",
       "    <tr>\n",
       "      <th>21</th>\n",
       "      <td>M01</td>\n",
       "      <td>../work/data/edfs//M01.edf</td>\n",
       "      <td>True</td>\n",
       "    </tr>\n",
       "    <tr>\n",
       "      <th>22</th>\n",
       "      <td>M01</td>\n",
       "      <td>../work/data/annots/M01.tsv</td>\n",
       "      <td>True</td>\n",
       "    </tr>\n",
       "    <tr>\n",
       "      <th>23</th>\n",
       "      <td>M02</td>\n",
       "      <td>../work/data/edfs//M02.edf</td>\n",
       "      <td>True</td>\n",
       "    </tr>\n",
       "    <tr>\n",
       "      <th>24</th>\n",
       "      <td>M02</td>\n",
       "      <td>../work/data/annots/M02.tsv</td>\n",
       "      <td>True</td>\n",
       "    </tr>\n",
       "    <tr>\n",
       "      <th>25</th>\n",
       "      <td>M03</td>\n",
       "      <td>../work/data/edfs//M03.edf</td>\n",
       "      <td>True</td>\n",
       "    </tr>\n",
       "    <tr>\n",
       "      <th>26</th>\n",
       "      <td>M03</td>\n",
       "      <td>../work/data/annots/M03.tsv</td>\n",
       "      <td>True</td>\n",
       "    </tr>\n",
       "    <tr>\n",
       "      <th>27</th>\n",
       "      <td>M04</td>\n",
       "      <td>../work/data/edfs//M04.edf</td>\n",
       "      <td>True</td>\n",
       "    </tr>\n",
       "    <tr>\n",
       "      <th>28</th>\n",
       "      <td>M04</td>\n",
       "      <td>../work/data/annots/M04.tsv</td>\n",
       "      <td>True</td>\n",
       "    </tr>\n",
       "    <tr>\n",
       "      <th>29</th>\n",
       "      <td>M05</td>\n",
       "      <td>../work/data/edfs//M05.edf</td>\n",
       "      <td>True</td>\n",
       "    </tr>\n",
       "    <tr>\n",
       "      <th>30</th>\n",
       "      <td>M05</td>\n",
       "      <td>../work/data/annots/M05.eannot</td>\n",
       "      <td>True</td>\n",
       "    </tr>\n",
       "    <tr>\n",
       "      <th>31</th>\n",
       "      <td>M06</td>\n",
       "      <td>../work/data/edfs//M06.edf</td>\n",
       "      <td>True</td>\n",
       "    </tr>\n",
       "    <tr>\n",
       "      <th>32</th>\n",
       "      <td>M06</td>\n",
       "      <td>../work/data/annots/M06.eannot</td>\n",
       "      <td>True</td>\n",
       "    </tr>\n",
       "    <tr>\n",
       "      <th>33</th>\n",
       "      <td>M07</td>\n",
       "      <td>../work/data/edfs//M07.edf</td>\n",
       "      <td>True</td>\n",
       "    </tr>\n",
       "    <tr>\n",
       "      <th>34</th>\n",
       "      <td>M07</td>\n",
       "      <td>../work/data/annots/M07.eannot</td>\n",
       "      <td>True</td>\n",
       "    </tr>\n",
       "    <tr>\n",
       "      <th>35</th>\n",
       "      <td>M08</td>\n",
       "      <td>../work/data/edfs//M08.edf</td>\n",
       "      <td>True</td>\n",
       "    </tr>\n",
       "    <tr>\n",
       "      <th>36</th>\n",
       "      <td>M08</td>\n",
       "      <td>../work/data/annots/M08.eannot</td>\n",
       "      <td>True</td>\n",
       "    </tr>\n",
       "    <tr>\n",
       "      <th>37</th>\n",
       "      <td>M09</td>\n",
       "      <td>../work/data/edfs//M09.edf</td>\n",
       "      <td>True</td>\n",
       "    </tr>\n",
       "    <tr>\n",
       "      <th>38</th>\n",
       "      <td>M09</td>\n",
       "      <td>../work/data/annots/M09.xml</td>\n",
       "      <td>True</td>\n",
       "    </tr>\n",
       "    <tr>\n",
       "      <th>39</th>\n",
       "      <td>M10</td>\n",
       "      <td>../work/data/edfs//M10.edf</td>\n",
       "      <td>True</td>\n",
       "    </tr>\n",
       "    <tr>\n",
       "      <th>40</th>\n",
       "      <td>M10</td>\n",
       "      <td>../work/data/annots/M10.xml</td>\n",
       "      <td>True</td>\n",
       "    </tr>\n",
       "  </tbody>\n",
       "</table>\n",
       "</div>"
      ],
      "text/plain": [
       "     ID                        Filename  Valid\n",
       "1   F01      ../work/data/edfs//F01.edf   True\n",
       "2   F01   ../work/data/annots/F01.annot   True\n",
       "3   F02      ../work/data/edfs//F02.edf   True\n",
       "4   F02   ../work/data/annots/F02.annot   True\n",
       "5   F03      ../work/data/edfs//F03.edf   True\n",
       "6   F03   ../work/data/annots/F03.annot   True\n",
       "7   F04      ../work/data/edfs//F04.edf   True\n",
       "8   F04   ../work/data/annots/F04.annot   True\n",
       "9   F05      ../work/data/edfs//F05.edf   True\n",
       "10  F05   ../work/data/annots/F05.annot   True\n",
       "11  F06      ../work/data/edfs//F06.edf   True\n",
       "12  F06   ../work/data/annots/F06.annot   True\n",
       "13  F07      ../work/data/edfs//F07.edf   True\n",
       "14  F07   ../work/data/annots/F07.annot   True\n",
       "15  F08      ../work/data/edfs//F08.edf   True\n",
       "16  F08   ../work/data/annots/F08.annot   True\n",
       "17  F09      ../work/data/edfs//F09.edf   True\n",
       "18  F09   ../work/data/annots/F09.annot   True\n",
       "19  F10      ../work/data/edfs//F10.edf   True\n",
       "20  F10   ../work/data/annots/F10.annot   True\n",
       "21  M01      ../work/data/edfs//M01.edf   True\n",
       "22  M01     ../work/data/annots/M01.tsv   True\n",
       "23  M02      ../work/data/edfs//M02.edf   True\n",
       "24  M02     ../work/data/annots/M02.tsv   True\n",
       "25  M03      ../work/data/edfs//M03.edf   True\n",
       "26  M03     ../work/data/annots/M03.tsv   True\n",
       "27  M04      ../work/data/edfs//M04.edf   True\n",
       "28  M04     ../work/data/annots/M04.tsv   True\n",
       "29  M05      ../work/data/edfs//M05.edf   True\n",
       "30  M05  ../work/data/annots/M05.eannot   True\n",
       "31  M06      ../work/data/edfs//M06.edf   True\n",
       "32  M06  ../work/data/annots/M06.eannot   True\n",
       "33  M07      ../work/data/edfs//M07.edf   True\n",
       "34  M07  ../work/data/annots/M07.eannot   True\n",
       "35  M08      ../work/data/edfs//M08.edf   True\n",
       "36  M08  ../work/data/annots/M08.eannot   True\n",
       "37  M09      ../work/data/edfs//M09.edf   True\n",
       "38  M09     ../work/data/annots/M09.xml   True\n",
       "39  M10      ../work/data/edfs//M10.edf   True\n",
       "40  M10     ../work/data/annots/M10.xml   True"
      ]
     },
     "execution_count": 18,
     "metadata": {},
     "output_type": "execute_result"
    }
   ],
   "source": [
    "tbl"
   ]
  },
  {
   "cell_type": "markdown",
   "id": "79c251b2-1acc-4412-95c5-1794ad301dfd",
   "metadata": {},
   "source": [
    "## Resave the sample list"
   ]
  },
  {
   "cell_type": "code",
   "execution_count": 19,
   "id": "e57c63d8-c653-4d85-acb9-5f3da4a535c9",
   "metadata": {},
   "outputs": [],
   "source": [
    "sl = proj.sample_list()\n",
    "sl['Annotations'] = sl['Annotations'].map( lambda x: str(x).strip('{}\\'') )\n",
    "sl.to_csv( 's1.lst', sep=\"\\t\", index=None, header=False)"
   ]
  }
 ],
 "metadata": {
  "kernelspec": {
   "display_name": "Python 3 (ipykernel)",
   "language": "python",
   "name": "python3"
  },
  "language_info": {
   "codemirror_mode": {
    "name": "ipython",
    "version": 3
   },
   "file_extension": ".py",
   "mimetype": "text/x-python",
   "name": "python",
   "nbconvert_exporter": "python",
   "pygments_lexer": "ipython3",
   "version": "3.9.6"
  }
 },
 "nbformat": 4,
 "nbformat_minor": 5
}
