{
 "cells": [
  {
   "cell_type": "markdown",
   "id": "069e2886-b49a-4f8d-81b0-3aa8c864e483",
   "metadata": {
    "jp-MarkdownHeadingCollapsed": true
   },
   "source": [
    "URL index: [Home](https://zzz.bwh.harvard.edu/luna-walkthrough/) | [Data](https://zzz.bwh.harvard.edu/luna-walkthrough/data/) | [S1. File QC](https://zzz.bwh.harvard.edu/luna-walkthrough/p1/) | [S2. Signal QC](https://zzz.bwh.harvard.edu/luna-walkthrough/p2) | [S3. Staging](https://zzz.bwh.harvard.edu/luna-walkthrough/p3) | [S4. Artifacts](https://zzz.bwh.harvard.edu/luna-walkthrough/p4) | [S5. Analysis](https://zzz.bwh.harvard.edu/luna-walkthrough/p5)\n",
    "\n",
    "Notebook index: [Index](../00_index.ipynb) | [S1. File QC](../p1/00_index.ipynb) | [S2. Signal QC](../p2/00_index.ipynb) | [S3. Staging](../p3/00_index.ipynb) | [S4. Artifacts](../p4/00_index.ipynb) | [S5. Analysis](../p5/00_index.ipynb)\n",
    "\n",
    "---"
   ]
  },
  {
   "cell_type": "markdown",
   "id": "584c4b59-5471-4b6d-b650-c802b72dffc7",
   "metadata": {},
   "source": [
    "# Step 1: file-level QC\n",
    "\n",
    "Walkthrough = [https://zzz.bwh.harvard.edu/luna-walkthrough/p1/](https://zzz.bwh.harvard.edu/luna-walkthrough/p1/)\n",
    "\n",
    "---\n",
    "\n",
    "The first step of any project typically entails checking the initial inputs (files) and getting them in a format that Luna can understand. In this section, we'll work through the following:\n",
    "\n",
    " - to [check the basic validity](01_valid.ipynb) of the files: can we open them?; are they corrupt or in an incorrect format?\n",
    "\n",
    " - how to account for partially [truncated EDFs](02_filefix.ipynb#truncated-edfs)\n",
    " \n",
    " - how to alter [annotation file formats](02_filefix.ipynb#invalid-annotation-file-formats) for compliance to Luna specifications\n",
    "\n",
    " - reviewing [EDF header information](03_hdr.ipynb)\n",
    "\n",
    " - identifying and changing [unusual EDF record sizes](04_recsize.ipynb)\n",
    "\n",
    " - reviewing and harmonizing EDF [channel labels](05_chs.ipynb)\n",
    " \n",
    "- reviewing and harmonizing [annotation labels](06_anns.ipynb)\n",
    "\n",
    " - finally, we'll [create a new project](07_gen.ipynb) for the next round of QC\n"
   ]
  },
  {
   "cell_type": "markdown",
   "id": "da873506-a574-47f6-b586-36493c804c0f",
   "metadata": {},
   "source": [
    "---"
   ]
  }
 ],
 "metadata": {
  "kernelspec": {
   "display_name": "Python 3 (ipykernel)",
   "language": "python",
   "name": "python3"
  },
  "language_info": {
   "codemirror_mode": {
    "name": "ipython",
    "version": 3
   },
   "file_extension": ".py",
   "mimetype": "text/x-python",
   "name": "python",
   "nbconvert_exporter": "python",
   "pygments_lexer": "ipython3",
   "version": "3.9.6"
  }
 },
 "nbformat": 4,
 "nbformat_minor": 5
}
