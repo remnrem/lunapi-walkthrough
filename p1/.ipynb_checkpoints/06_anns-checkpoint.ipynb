{
 "cells": [
  {
   "cell_type": "markdown",
   "id": "3735ed67-b60c-4b4d-b323-54fb63b9a87f",
   "metadata": {
    "jp-MarkdownHeadingCollapsed": true
   },
   "source": [
    "URL index: [Home](https://zzz.bwh.harvard.edu/luna-walkthrough/) | [Data](https://zzz.bwh.harvard.edu/luna-walkthrough/data/) | [S1. File QC](https://zzz.bwh.harvard.edu/luna-walkthrough/p1/) | [S2. Signal QC](https://zzz.bwh.harvard.edu/luna-walkthrough/p2) | [S3. Staging](https://zzz.bwh.harvard.edu/luna-walkthrough/p3) | [S4. Artifacts](https://zzz.bwh.harvard.edu/luna-walkthrough/p4) | [S5. Analysis](https://zzz.bwh.harvard.edu/luna-walkthrough/p5)\n",
    "\n",
    "Notebook index: [Index](../00_index.ipynb) | [S1. File QC](../p1/00_index.ipynb) | [S2. Signal QC](../p2/00_index.ipynb) | [S3. Staging](../p3/00_index.ipynb) | [S4. Artifacts](../p4/00_index.ipynb) | [S5. Analysis](../p5/00_index.ipynb)\n",
    "\n",
    "---"
   ]
  },
  {
   "cell_type": "markdown",
   "id": "3c4ad2d3-b9f2-4cc4-92e3-0a509e333271",
   "metadata": {},
   "source": [
    "# 1.7. Reviewing and harmonizing annotation labels\n",
    "\n",
    "Walktrhough URL = [https://zzz.bwh.harvard.edu/luna-walkthrough/p1/anns/](https://zzz.bwh.harvard.edu/luna-walkthrough/p1/anns/)"
   ]
  },
  {
   "cell_type": "code",
   "execution_count": 1,
   "id": "255efc6a-64cb-4b8a-a76e-84a7c31573a2",
   "metadata": {},
   "outputs": [
    {
     "name": "stdout",
     "output_type": "stream",
     "text": [
      "initiated lunapi v0.1.1 <lunapi.lunapi0.luna object at 0x16e5f15f0> \n",
      "\n",
      "read 20 individuals from s1.lst\n"
     ]
    }
   ],
   "source": [
    "import lunapi as lp\n",
    "proj = lp.proj()\n",
    "proj.sample_list( 's1.lst' )"
   ]
  },
  {
   "cell_type": "markdown",
   "id": "c70fcca3-e2f5-48d7-afce-a694232e0e54",
   "metadata": {},
   "source": [
    "## Tabulating annotations"
   ]
  },
  {
   "cell_type": "markdown",
   "id": "23be4710-5818-4481-a545-a5008b360259",
   "metadata": {},
   "source": [
    "We've attached the previously generated `s1.lst` sample list.  Here we tabulate information on annotations."
   ]
  },
  {
   "cell_type": "code",
   "execution_count": 2,
   "id": "0abc08cb-d0ab-4159-988c-95d8daae6dd4",
   "metadata": {},
   "outputs": [],
   "source": [
    "res = proj.silent_proc( 'ANNOTS' )"
   ]
  },
  {
   "cell_type": "code",
   "execution_count": 3,
   "id": "f6774f67-174c-4e6c-8b6e-a02e90b4f4de",
   "metadata": {},
   "outputs": [
    {
     "data": {
      "text/html": [
       "<div>\n",
       "<style scoped>\n",
       "    .dataframe tbody tr th:only-of-type {\n",
       "        vertical-align: middle;\n",
       "    }\n",
       "\n",
       "    .dataframe tbody tr th {\n",
       "        vertical-align: top;\n",
       "    }\n",
       "\n",
       "    .dataframe thead th {\n",
       "        text-align: right;\n",
       "    }\n",
       "</style>\n",
       "<table border=\"1\" class=\"dataframe\">\n",
       "  <thead>\n",
       "    <tr style=\"text-align: right;\">\n",
       "      <th></th>\n",
       "      <th>Command</th>\n",
       "      <th>Strata</th>\n",
       "    </tr>\n",
       "  </thead>\n",
       "  <tbody>\n",
       "    <tr>\n",
       "      <th>0</th>\n",
       "      <td>ANNOTS</td>\n",
       "      <td>ANNOT</td>\n",
       "    </tr>\n",
       "    <tr>\n",
       "      <th>1</th>\n",
       "      <td>ANNOTS</td>\n",
       "      <td>ANNOT_INST</td>\n",
       "    </tr>\n",
       "    <tr>\n",
       "      <th>2</th>\n",
       "      <td>ANNOTS</td>\n",
       "      <td>ANNOT_INST_T1_T2</td>\n",
       "    </tr>\n",
       "  </tbody>\n",
       "</table>\n",
       "</div>"
      ],
      "text/plain": [
       "  Command            Strata\n",
       "0  ANNOTS             ANNOT\n",
       "1  ANNOTS        ANNOT_INST\n",
       "2  ANNOTS  ANNOT_INST_T1_T2"
      ]
     },
     "execution_count": 3,
     "metadata": {},
     "output_type": "execute_result"
    }
   ],
   "source": [
    "proj.strata()"
   ]
  },
  {
   "cell_type": "markdown",
   "id": "57286853-9071-4241-8ec5-147836b8897e",
   "metadata": {},
   "source": [
    "This gives a table of all annotations, their count and (total) duration."
   ]
  },
  {
   "cell_type": "code",
   "execution_count": 4,
   "id": "067637f0-fb9f-447b-bf96-5b7fdbee1d98",
   "metadata": {},
   "outputs": [
    {
     "data": {
      "text/html": [
       "<div>\n",
       "<style scoped>\n",
       "    .dataframe tbody tr th:only-of-type {\n",
       "        vertical-align: middle;\n",
       "    }\n",
       "\n",
       "    .dataframe tbody tr th {\n",
       "        vertical-align: top;\n",
       "    }\n",
       "\n",
       "    .dataframe thead th {\n",
       "        text-align: right;\n",
       "    }\n",
       "</style>\n",
       "<table border=\"1\" class=\"dataframe\">\n",
       "  <thead>\n",
       "    <tr style=\"text-align: right;\">\n",
       "      <th></th>\n",
       "      <th>ID</th>\n",
       "      <th>ANNOT</th>\n",
       "      <th>COUNT</th>\n",
       "      <th>DUR</th>\n",
       "    </tr>\n",
       "  </thead>\n",
       "  <tbody>\n",
       "    <tr>\n",
       "      <th>0</th>\n",
       "      <td>F09</td>\n",
       "      <td>0</td>\n",
       "      <td>48</td>\n",
       "      <td>1440.0</td>\n",
       "    </tr>\n",
       "    <tr>\n",
       "      <th>1</th>\n",
       "      <td>F10</td>\n",
       "      <td>0</td>\n",
       "      <td>183</td>\n",
       "      <td>5490.0</td>\n",
       "    </tr>\n",
       "    <tr>\n",
       "      <th>2</th>\n",
       "      <td>F09</td>\n",
       "      <td>1</td>\n",
       "      <td>44</td>\n",
       "      <td>1320.0</td>\n",
       "    </tr>\n",
       "    <tr>\n",
       "      <th>3</th>\n",
       "      <td>F10</td>\n",
       "      <td>1</td>\n",
       "      <td>81</td>\n",
       "      <td>2430.0</td>\n",
       "    </tr>\n",
       "    <tr>\n",
       "      <th>4</th>\n",
       "      <td>F09</td>\n",
       "      <td>2</td>\n",
       "      <td>477</td>\n",
       "      <td>14310.0</td>\n",
       "    </tr>\n",
       "    <tr>\n",
       "      <th>...</th>\n",
       "      <td>...</td>\n",
       "      <td>...</td>\n",
       "      <td>...</td>\n",
       "      <td>...</td>\n",
       "    </tr>\n",
       "    <tr>\n",
       "      <th>101</th>\n",
       "      <td>M04</td>\n",
       "      <td>W</td>\n",
       "      <td>245</td>\n",
       "      <td>7350.0</td>\n",
       "    </tr>\n",
       "    <tr>\n",
       "      <th>102</th>\n",
       "      <td>M05</td>\n",
       "      <td>W</td>\n",
       "      <td>98</td>\n",
       "      <td>2940.0</td>\n",
       "    </tr>\n",
       "    <tr>\n",
       "      <th>103</th>\n",
       "      <td>M06</td>\n",
       "      <td>W</td>\n",
       "      <td>212</td>\n",
       "      <td>6360.0</td>\n",
       "    </tr>\n",
       "    <tr>\n",
       "      <th>104</th>\n",
       "      <td>M07</td>\n",
       "      <td>W</td>\n",
       "      <td>363</td>\n",
       "      <td>10890.0</td>\n",
       "    </tr>\n",
       "    <tr>\n",
       "      <th>105</th>\n",
       "      <td>M08</td>\n",
       "      <td>W</td>\n",
       "      <td>330</td>\n",
       "      <td>9900.0</td>\n",
       "    </tr>\n",
       "  </tbody>\n",
       "</table>\n",
       "<p>106 rows × 4 columns</p>\n",
       "</div>"
      ],
      "text/plain": [
       "      ID ANNOT COUNT      DUR\n",
       "0    F09     0    48   1440.0\n",
       "1    F10     0   183   5490.0\n",
       "2    F09     1    44   1320.0\n",
       "3    F10     1    81   2430.0\n",
       "4    F09     2   477  14310.0\n",
       "..   ...   ...   ...      ...\n",
       "101  M04     W   245   7350.0\n",
       "102  M05     W    98   2940.0\n",
       "103  M06     W   212   6360.0\n",
       "104  M07     W   363  10890.0\n",
       "105  M08     W   330   9900.0\n",
       "\n",
       "[106 rows x 4 columns]"
      ]
     },
     "execution_count": 4,
     "metadata": {},
     "output_type": "execute_result"
    }
   ],
   "source": [
    "tbl = proj.table( 'ANNOTS' , 'ANNOT' ) \n",
    "tbl"
   ]
  },
  {
   "cell_type": "markdown",
   "id": "4a2ee7a7-482d-49ae-bd2f-01db2968596a",
   "metadata": {},
   "source": [
    "Counting the number of people with at least one of that annotation class. "
   ]
  },
  {
   "cell_type": "code",
   "execution_count": 8,
   "id": "2eee1abf-48e6-475a-878d-05a61ba2e4ce",
   "metadata": {},
   "outputs": [
    {
     "data": {
      "text/plain": [
       "ANNOT\n",
       "N2            16\n",
       "N1            15\n",
       "N3            15\n",
       "R             13\n",
       "W             13\n",
       "Arousal       10\n",
       "5              2\n",
       "3              2\n",
       "2              2\n",
       "1              2\n",
       "SR             2\n",
       "SW             2\n",
       "SlpStg1        2\n",
       "SlpStg2        2\n",
       "SlpStg3        2\n",
       "SlpStgREM      2\n",
       "SlpStgWake     2\n",
       "0              2\n",
       "Name: count, dtype: int64"
      ]
     },
     "execution_count": 8,
     "metadata": {},
     "output_type": "execute_result"
    }
   ],
   "source": [
    "tbl[ 'ANNOT' ].value_counts()"
   ]
  },
  {
   "cell_type": "markdown",
   "id": "72c92d63-213c-473c-b90b-c3516b1eeb66",
   "metadata": {},
   "source": [
    "Above we note some \"missing\" annotations, e.g. `S1`, etc.   As described in the walkthrough, this reflects Luna's default mapping of stage labels.  We can turn that off and re-run to get all \"original\" / \"as is\" labels."
   ]
  },
  {
   "cell_type": "code",
   "execution_count": 5,
   "id": "7ccc7bfc-a9c7-4028-952f-2d23dd20a18f",
   "metadata": {},
   "outputs": [
    {
     "data": {
      "text/plain": [
       "ANNOT\n",
       "Arousal       10\n",
       "N2             9\n",
       "W              8\n",
       "N1             8\n",
       "N3             8\n",
       "R              8\n",
       "S1             6\n",
       "S2             6\n",
       "S3             6\n",
       "Wake           4\n",
       "REM            4\n",
       "0              2\n",
       "SlpStg2        2\n",
       "SlpStgWake     2\n",
       "SlpStgREM      2\n",
       "SlpStg3        2\n",
       "SR             2\n",
       "SlpStg1        2\n",
       "SW             2\n",
       "1              2\n",
       "5              2\n",
       "3              2\n",
       "2              2\n",
       "n1             1\n",
       "n2             1\n",
       "n3             1\n",
       "r              1\n",
       "w              1\n",
       "Name: count, dtype: int64"
      ]
     },
     "execution_count": 5,
     "metadata": {},
     "output_type": "execute_result"
    }
   ],
   "source": [
    "proj.var( 'annot-remap' , 'F' )\n",
    "res = proj.silent_proc( 'ANNOTS' )\n",
    "tbl = proj.table( 'ANNOTS' , 'ANNOT' ) \n",
    "tbl[ 'ANNOT' ].value_counts()"
   ]
  },
  {
   "cell_type": "markdown",
   "id": "027ca1f3-fa50-4bac-ad55-3465e9d0ea0e",
   "metadata": {},
   "source": [
    "i.e. we now see `S1`, `S2`, etc included in the output (and correspondingly fewer people with `N1`, `N2`, etc labels)."
   ]
  },
  {
   "cell_type": "markdown",
   "id": "c9c688b3-d9bf-4a86-9d18-b25a867c9207",
   "metadata": {},
   "source": [
    "We've defined a mapping file for these new/nonstandard stage labels:"
   ]
  },
  {
   "cell_type": "code",
   "execution_count": 6,
   "id": "0873394c-037d-45ab-ad26-0457cf9f4790",
   "metadata": {},
   "outputs": [
    {
     "name": "stdout",
     "output_type": "stream",
     "text": [
      "remap\tN1|1|S1|SlpStg1\n",
      "remap\tN2|2|S2|SlpStg2\n",
      "remap\tN3|3|S3|SlpStg3\n",
      "remap\tR|REM|5|SR|SlpStgREM\n",
      "remap\tW|Wake|0|SW|SlpStgWake\n"
     ]
    }
   ],
   "source": [
    "%%sh\n",
    "cat ../work/data/aux/amaps"
   ]
  },
  {
   "cell_type": "markdown",
   "id": "e1b8c4b2-72bf-479f-a77d-8aebcbe40585",
   "metadata": {},
   "source": [
    "As for the channel aliases previously, we can `@include` these terms, i.e. will set all these special variables."
   ]
  },
  {
   "cell_type": "code",
   "execution_count": 7,
   "id": "b61154ba-e47a-43fe-b432-56492a59894b",
   "metadata": {},
   "outputs": [
    {
     "name": "stderr",
     "output_type": "stream",
     "text": [
      "  setting remap = N1|1|S1|SlpStg1\n",
      "  setting remap = N2|2|S2|SlpStg2\n",
      "  setting remap = N3|3|S3|SlpStg3\n",
      "  setting remap = R|REM|5|SR|SlpStgREM\n",
      "  setting remap = W|Wake|0|SW|SlpStgWake\n"
     ]
    },
    {
     "data": {
      "text/plain": [
       "5"
      ]
     },
     "execution_count": 7,
     "metadata": {},
     "output_type": "execute_result"
    }
   ],
   "source": [
    "proj.include( '../work/data/aux/amaps' )"
   ]
  },
  {
   "cell_type": "markdown",
   "id": "1fef6311-c5f9-4fa0-8bf5-95a661db2a24",
   "metadata": {},
   "source": [
    "We can check they are included in the current _aliases_ table."
   ]
  },
  {
   "cell_type": "code",
   "execution_count": 8,
   "id": "c01e5b69-587b-4fed-b664-75ca410fe4ac",
   "metadata": {},
   "outputs": [
    {
     "data": {
      "text/html": [
       "<div>\n",
       "<style scoped>\n",
       "    .dataframe tbody tr th:only-of-type {\n",
       "        vertical-align: middle;\n",
       "    }\n",
       "\n",
       "    .dataframe tbody tr th {\n",
       "        vertical-align: top;\n",
       "    }\n",
       "\n",
       "    .dataframe thead th {\n",
       "        text-align: right;\n",
       "    }\n",
       "</style>\n",
       "<table border=\"1\" class=\"dataframe\">\n",
       "  <thead>\n",
       "    <tr style=\"text-align: right;\">\n",
       "      <th></th>\n",
       "      <th>Type</th>\n",
       "      <th>Preferred</th>\n",
       "      <th>Case-insensitive, sanitized alias</th>\n",
       "    </tr>\n",
       "  </thead>\n",
       "  <tbody>\n",
       "    <tr>\n",
       "      <th>1</th>\n",
       "      <td>ANNOT</td>\n",
       "      <td>W</td>\n",
       "      <td>0</td>\n",
       "    </tr>\n",
       "    <tr>\n",
       "      <th>2</th>\n",
       "      <td>ANNOT</td>\n",
       "      <td>N1</td>\n",
       "      <td>1</td>\n",
       "    </tr>\n",
       "    <tr>\n",
       "      <th>3</th>\n",
       "      <td>ANNOT</td>\n",
       "      <td>N2</td>\n",
       "      <td>2</td>\n",
       "    </tr>\n",
       "    <tr>\n",
       "      <th>4</th>\n",
       "      <td>ANNOT</td>\n",
       "      <td>N3</td>\n",
       "      <td>3</td>\n",
       "    </tr>\n",
       "    <tr>\n",
       "      <th>5</th>\n",
       "      <td>ANNOT</td>\n",
       "      <td>R</td>\n",
       "      <td>5</td>\n",
       "    </tr>\n",
       "    <tr>\n",
       "      <th>6</th>\n",
       "      <td>ANNOT</td>\n",
       "      <td>R</td>\n",
       "      <td>REM</td>\n",
       "    </tr>\n",
       "    <tr>\n",
       "      <th>7</th>\n",
       "      <td>ANNOT</td>\n",
       "      <td>N1</td>\n",
       "      <td>S1</td>\n",
       "    </tr>\n",
       "    <tr>\n",
       "      <th>8</th>\n",
       "      <td>ANNOT</td>\n",
       "      <td>N2</td>\n",
       "      <td>S2</td>\n",
       "    </tr>\n",
       "    <tr>\n",
       "      <th>9</th>\n",
       "      <td>ANNOT</td>\n",
       "      <td>N3</td>\n",
       "      <td>S3</td>\n",
       "    </tr>\n",
       "    <tr>\n",
       "      <th>10</th>\n",
       "      <td>ANNOT</td>\n",
       "      <td>N1</td>\n",
       "      <td>SLPSTG1</td>\n",
       "    </tr>\n",
       "    <tr>\n",
       "      <th>11</th>\n",
       "      <td>ANNOT</td>\n",
       "      <td>N2</td>\n",
       "      <td>SLPSTG2</td>\n",
       "    </tr>\n",
       "    <tr>\n",
       "      <th>12</th>\n",
       "      <td>ANNOT</td>\n",
       "      <td>N3</td>\n",
       "      <td>SLPSTG3</td>\n",
       "    </tr>\n",
       "    <tr>\n",
       "      <th>13</th>\n",
       "      <td>ANNOT</td>\n",
       "      <td>R</td>\n",
       "      <td>SLPSTGREM</td>\n",
       "    </tr>\n",
       "    <tr>\n",
       "      <th>14</th>\n",
       "      <td>ANNOT</td>\n",
       "      <td>W</td>\n",
       "      <td>SLPSTGWAKE</td>\n",
       "    </tr>\n",
       "    <tr>\n",
       "      <th>15</th>\n",
       "      <td>ANNOT</td>\n",
       "      <td>R</td>\n",
       "      <td>SR</td>\n",
       "    </tr>\n",
       "    <tr>\n",
       "      <th>16</th>\n",
       "      <td>ANNOT</td>\n",
       "      <td>W</td>\n",
       "      <td>SW</td>\n",
       "    </tr>\n",
       "    <tr>\n",
       "      <th>17</th>\n",
       "      <td>ANNOT</td>\n",
       "      <td>W</td>\n",
       "      <td>WAKE</td>\n",
       "    </tr>\n",
       "  </tbody>\n",
       "</table>\n",
       "</div>"
      ],
      "text/plain": [
       "     Type Preferred Case-insensitive, sanitized alias\n",
       "1   ANNOT         W                                 0\n",
       "2   ANNOT        N1                                 1\n",
       "3   ANNOT        N2                                 2\n",
       "4   ANNOT        N3                                 3\n",
       "5   ANNOT         R                                 5\n",
       "6   ANNOT         R                               REM\n",
       "7   ANNOT        N1                                S1\n",
       "8   ANNOT        N2                                S2\n",
       "9   ANNOT        N3                                S3\n",
       "10  ANNOT        N1                           SLPSTG1\n",
       "11  ANNOT        N2                           SLPSTG2\n",
       "12  ANNOT        N3                           SLPSTG3\n",
       "13  ANNOT         R                         SLPSTGREM\n",
       "14  ANNOT         W                        SLPSTGWAKE\n",
       "15  ANNOT         R                                SR\n",
       "16  ANNOT         W                                SW\n",
       "17  ANNOT         W                              WAKE"
      ]
     },
     "metadata": {},
     "output_type": "display_data"
    }
   ],
   "source": [
    "proj.aliases()"
   ]
  },
  {
   "cell_type": "markdown",
   "id": "d4ba46a5-d780-425a-8de0-6b18c6189029",
   "metadata": {},
   "source": [
    "Note: the previously defined _channel aliases_ are __not__ listed here, as we're running this in a separate notebook, which has a distinct kernel, implying a totally different instantation of lunapi.     Unlike the command-line version, in which every single Luna run is an atomic unit, it takes a little more care to keep track of what does persist (e.g. variables set across different cells in the same notebook, based on the order in which they were executed...) versus not (e.g. between different notebooks).\n",
    "\n",
    "In any case, now we've set these explicit annotation remappings, we'll turn `annot-remap` back on and re-run `ANNOTS`."
   ]
  },
  {
   "cell_type": "code",
   "execution_count": 9,
   "id": "4f9fcd9c-3215-400c-9340-fb72366fbd5c",
   "metadata": {},
   "outputs": [
    {
     "data": {
      "text/plain": [
       "ANNOT\n",
       "N2         20\n",
       "N1         19\n",
       "N3         19\n",
       "R          19\n",
       "W          19\n",
       "Arousal    10\n",
       "Name: count, dtype: int64"
      ]
     },
     "execution_count": 9,
     "metadata": {},
     "output_type": "execute_result"
    }
   ],
   "source": [
    "proj.var( 'annot-remap' , 'T' )\n",
    "res = proj.silent_proc( 'ANNOTS' )\n",
    "tbl = proj.table( 'ANNOTS' , 'ANNOT' ) \n",
    "tbl[ 'ANNOT' ].value_counts()"
   ]
  },
  {
   "cell_type": "markdown",
   "id": "c862d955-c779-4c25-997a-b7c040ec05ed",
   "metadata": {},
   "source": [
    "That is, above we now see only the five stage labels, harmonized and defined for all individuals as expected (note, one person only had N2 sleep), in addition to the `Arousal` annotation."
   ]
  },
  {
   "cell_type": "markdown",
   "id": "a80b223b-7440-444e-baaf-2c81948470a1",
   "metadata": {},
   "source": [
    "## Making reformatted annotation files"
   ]
  },
  {
   "cell_type": "markdown",
   "id": "e2697663-059d-4cb0-9e6f-1fb087bc48ef",
   "metadata": {},
   "source": [
    "The `WRITE-ANNOTS` command will save all annotation files - now with remapped labels - in consistent .annot formats in `../work/harm1/`."
   ]
  },
  {
   "cell_type": "code",
   "execution_count": 10,
   "id": "7cb26760-89c2-41fe-bc83-11bd0eab8c3b",
   "metadata": {},
   "outputs": [],
   "source": [
    "#luna s1.lst @work/data/aux/amaps -o out.db -s WRITE-ANNOTS file=work/harm1/^.annot\n",
    "res = proj.silent_proc( 'WRITE-ANNOTS file=../work/harm1/^.annot' ) "
   ]
  },
  {
   "cell_type": "markdown",
   "id": "f7fd7e55-4867-46d4-ab04-c70f66a49e9b",
   "metadata": {},
   "source": [
    "We can check the new .annot files are now present alongside the EDFs."
   ]
  },
  {
   "cell_type": "code",
   "execution_count": 11,
   "id": "3ec4e902-8f9c-4f3b-9e1e-7c8849ca56fe",
   "metadata": {},
   "outputs": [
    {
     "name": "stdout",
     "output_type": "stream",
     "text": [
      "F01.annot\n",
      "F01.edf\n",
      "F02.annot\n",
      "F02.edf\n",
      "F03.annot\n",
      "F03.edf\n",
      "F04.annot\n",
      "F04.edf\n",
      "F05.annot\n",
      "F05.edf\n",
      "F06.annot\n",
      "F06.edf\n",
      "F07.annot\n",
      "F07.edf\n",
      "F08.annot\n",
      "F08.edf\n",
      "F09.annot\n",
      "F09.edf\n",
      "F10.annot\n",
      "F10.edf\n",
      "M01.annot\n",
      "M01.edf\n",
      "M02.annot\n",
      "M02.edf\n",
      "M03.annot\n",
      "M03.edf\n",
      "M04.annot\n",
      "M04.edf\n",
      "M05.annot\n",
      "M05.edf\n",
      "M06.annot\n",
      "M06.edf\n",
      "M07.annot\n",
      "M07.edf\n",
      "M08.annot\n",
      "M08.edf\n",
      "M09.annot\n",
      "M09.edf\n",
      "M10.annot\n",
      "M10.edf\n"
     ]
    }
   ],
   "source": [
    "%%sh\n",
    "ls ../work/harm1/"
   ]
  },
  {
   "cell_type": "markdown",
   "id": "e58b7ec6-61e4-4f4d-be05-9cba7ae866dc",
   "metadata": {},
   "source": [
    "Finally, we can take a peek at one of these files - e.g. standard .annot format (with time encoded in elapsed seconds from the EDF start)."
   ]
  },
  {
   "cell_type": "code",
   "execution_count": 17,
   "id": "a9ecebe3-5df0-4cff-b7bd-8a6caa160195",
   "metadata": {},
   "outputs": [
    {
     "name": "stdout",
     "output_type": "stream",
     "text": [
      "class\tinstance\tchannel\tstart\tstop\tmeta\n",
      "W\tW\t.\t0.000\t30.000\t.\n",
      "W\tW\t.\t30.000\t60.000\t.\n",
      "W\tW\t.\t60.000\t90.000\t.\n",
      "W\tW\t.\t90.000\t120.000\t.\n",
      "W\tW\t.\t120.000\t150.000\t.\n",
      "W\tW\t.\t150.000\t180.000\t.\n",
      "W\tW\t.\t180.000\t210.000\t.\n",
      "W\tW\t.\t210.000\t240.000\t.\n",
      "W\tW\t.\t240.000\t270.000\t.\n"
     ]
    }
   ],
   "source": [
    "%%sh \n",
    "head ../work/harm1/F01.annot"
   ]
  },
  {
   "cell_type": "markdown",
   "id": "aee8be7c-de6f-4807-b9ae-02c199df4853",
   "metadata": {},
   "source": [
    "---\n",
    "\n",
    "We can now move to the [final step](07_gen.ipynb) of making a new sample-list/project."
   ]
  },
  {
   "cell_type": "code",
   "execution_count": null,
   "id": "28a613d1-1867-4e91-bb89-ac3b42fd0c06",
   "metadata": {},
   "outputs": [],
   "source": []
  }
 ],
 "metadata": {
  "kernelspec": {
   "display_name": "Python 3 (ipykernel)",
   "language": "python",
   "name": "python3"
  },
  "language_info": {
   "codemirror_mode": {
    "name": "ipython",
    "version": 3
   },
   "file_extension": ".py",
   "mimetype": "text/x-python",
   "name": "python",
   "nbconvert_exporter": "python",
   "pygments_lexer": "ipython3",
   "version": "3.9.6"
  }
 },
 "nbformat": 4,
 "nbformat_minor": 5
}
